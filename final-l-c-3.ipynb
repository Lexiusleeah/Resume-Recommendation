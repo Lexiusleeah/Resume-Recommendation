{
 "cells": [
  {
   "cell_type": "markdown",
   "id": "b0454848",
   "metadata": {
    "papermill": {
     "duration": 0.024462,
     "end_time": "2023-12-10T20:38:57.090054",
     "exception": false,
     "start_time": "2023-12-10T20:38:57.065592",
     "status": "completed"
    },
    "tags": []
   },
   "source": [
    "### Install important packages"
   ]
  },
  {
   "cell_type": "code",
   "execution_count": 1,
   "id": "8cb72597",
   "metadata": {
    "_cell_guid": "b1076dfc-b9ad-4769-8c92-a6c4dae69d19",
    "_uuid": "8f2839f25d086af736a60e9eeb907d3b93b6e0e5",
    "execution": {
     "iopub.execute_input": "2023-12-10T20:38:57.141615Z",
     "iopub.status.busy": "2023-12-10T20:38:57.140166Z",
     "iopub.status.idle": "2023-12-10T20:38:57.816486Z",
     "shell.execute_reply": "2023-12-10T20:38:57.815176Z"
    },
    "papermill": {
     "duration": 0.705884,
     "end_time": "2023-12-10T20:38:57.819906",
     "exception": false,
     "start_time": "2023-12-10T20:38:57.114022",
     "status": "completed"
    },
    "tags": []
   },
   "outputs": [],
   "source": [
    "\n",
    "\n",
    "import numpy as np # linear algebra\n",
    "import pandas as pd # data processing, CSV file I/O (e.g. pd.read_csv)\n",
    "import os\n",
    "\n",
    "import pypdf\n"
   ]
  },
  {
   "cell_type": "code",
   "execution_count": 2,
   "id": "4b9b05b9",
   "metadata": {
    "execution": {
     "iopub.execute_input": "2023-12-10T20:38:57.869117Z",
     "iopub.status.busy": "2023-12-10T20:38:57.868080Z",
     "iopub.status.idle": "2023-12-10T20:39:00.754492Z",
     "shell.execute_reply": "2023-12-10T20:39:00.752740Z"
    },
    "papermill": {
     "duration": 2.913915,
     "end_time": "2023-12-10T20:39:00.757685",
     "exception": false,
     "start_time": "2023-12-10T20:38:57.843770",
     "status": "completed"
    },
    "tags": []
   },
   "outputs": [],
   "source": [
    "import numpy as np\n",
    "import scipy\n",
    "import pandas as pd\n",
    "import math\n",
    "import random\n",
    "import sklearn\n",
    "from nltk.corpus import stopwords\n",
    "from scipy.sparse import csr_matrix\n",
    "from sklearn.model_selection import train_test_split\n",
    "from sklearn.feature_extraction.text import TfidfVectorizer\n",
    "from sklearn.metrics.pairwise import cosine_similarity\n",
    "from scipy.sparse.linalg import svds\n",
    "from sklearn.preprocessing import MinMaxScaler\n",
    "import matplotlib.pyplot as plt"
   ]
  },
  {
   "cell_type": "code",
   "execution_count": 3,
   "id": "2286cf80",
   "metadata": {
    "execution": {
     "iopub.execute_input": "2023-12-10T20:39:00.805352Z",
     "iopub.status.busy": "2023-12-10T20:39:00.803833Z",
     "iopub.status.idle": "2023-12-10T20:39:01.054217Z",
     "shell.execute_reply": "2023-12-10T20:39:01.052823Z"
    },
    "papermill": {
     "duration": 0.276509,
     "end_time": "2023-12-10T20:39:01.056765",
     "exception": false,
     "start_time": "2023-12-10T20:39:00.780256",
     "status": "completed"
    },
    "tags": []
   },
   "outputs": [
    {
     "name": "stdout",
     "output_type": "stream",
     "text": [
      "[nltk_data] Downloading package wordnet to /usr/share/nltk_data...\n",
      "[nltk_data]   Package wordnet is already up-to-date!\n"
     ]
    },
    {
     "data": {
      "text/plain": [
       "True"
      ]
     },
     "execution_count": 3,
     "metadata": {},
     "output_type": "execute_result"
    }
   ],
   "source": [
    "import nltk   #natural language toolkit for preprocessing the text data\n",
    "from nltk.stem import WordNetLemmatizer   #used to Lemmatize using WordNet's    #built-in morphy function.Returns the input word unchanged if it cannot #be found in WordNet. \n",
    "\n",
    "from nltk.stem import SnowballStemmer #used for stemming in NLP\n",
    "from nltk.stem.porter import * #porter stemming \n",
    "\n",
    "from wordcloud import WordCloud #visualization techniques for #frequently repeated texts \n",
    "\n",
    "nltk.download('wordnet')  #database of words in more than 200 #languages"
   ]
  },
  {
   "cell_type": "code",
   "execution_count": 4,
   "id": "5148e587",
   "metadata": {
    "execution": {
     "iopub.execute_input": "2023-12-10T20:39:01.103012Z",
     "iopub.status.busy": "2023-12-10T20:39:01.102084Z",
     "iopub.status.idle": "2023-12-10T20:39:01.609879Z",
     "shell.execute_reply": "2023-12-10T20:39:01.608251Z"
    },
    "papermill": {
     "duration": 0.534544,
     "end_time": "2023-12-10T20:39:01.612883",
     "exception": false,
     "start_time": "2023-12-10T20:39:01.078339",
     "status": "completed"
    },
    "tags": []
   },
   "outputs": [
    {
     "name": "stdout",
     "output_type": "stream",
     "text": [
      "[nltk_data] Downloading package wordnet to /kaggle/working/...\n",
      "Archive:  /kaggle/working/corpora/wordnet.zip\n",
      "   creating: /kaggle/working/corpora/wordnet/\n",
      "  inflating: /kaggle/working/corpora/wordnet/lexnames  \n",
      "  inflating: /kaggle/working/corpora/wordnet/data.verb  \n",
      "  inflating: /kaggle/working/corpora/wordnet/index.adv  \n",
      "  inflating: /kaggle/working/corpora/wordnet/adv.exc  \n",
      "  inflating: /kaggle/working/corpora/wordnet/index.verb  \n",
      "  inflating: /kaggle/working/corpora/wordnet/cntlist.rev  \n",
      "  inflating: /kaggle/working/corpora/wordnet/data.adj  \n",
      "  inflating: /kaggle/working/corpora/wordnet/index.adj  \n",
      "  inflating: /kaggle/working/corpora/wordnet/LICENSE  \n",
      "  inflating: /kaggle/working/corpora/wordnet/citation.bib  \n",
      "  inflating: /kaggle/working/corpora/wordnet/noun.exc  \n",
      "  inflating: /kaggle/working/corpora/wordnet/verb.exc  \n",
      "  inflating: /kaggle/working/corpora/wordnet/README  \n",
      "  inflating: /kaggle/working/corpora/wordnet/index.sense  \n",
      "  inflating: /kaggle/working/corpora/wordnet/data.noun  \n",
      "  inflating: /kaggle/working/corpora/wordnet/data.adv  \n",
      "  inflating: /kaggle/working/corpora/wordnet/index.noun  \n",
      "  inflating: /kaggle/working/corpora/wordnet/adj.exc  \n"
     ]
    }
   ],
   "source": [
    "import nltk\n",
    "import subprocess\n",
    "\n",
    "# Download and unzip wordnet\n",
    "try:\n",
    "    nltk.data.find('wordnet.zip')\n",
    "except:\n",
    "    nltk.download('wordnet', download_dir='/kaggle/working/')\n",
    "    command = \"unzip /kaggle/working/corpora/wordnet.zip -d /kaggle/working/corpora\"\n",
    "    subprocess.run(command.split())\n",
    "    nltk.data.path.append('/kaggle/working/')\n",
    "\n",
    "# Now you can import the NLTK resources as usual\n",
    "from nltk.corpus import wordnet"
   ]
  },
  {
   "cell_type": "code",
   "execution_count": 5,
   "id": "af78f666",
   "metadata": {
    "execution": {
     "iopub.execute_input": "2023-12-10T20:39:01.665140Z",
     "iopub.status.busy": "2023-12-10T20:39:01.664693Z",
     "iopub.status.idle": "2023-12-10T20:39:18.676784Z",
     "shell.execute_reply": "2023-12-10T20:39:18.675004Z"
    },
    "papermill": {
     "duration": 17.043741,
     "end_time": "2023-12-10T20:39:18.680094",
     "exception": false,
     "start_time": "2023-12-10T20:39:01.636353",
     "status": "completed"
    },
    "tags": []
   },
   "outputs": [
    {
     "name": "stdout",
     "output_type": "stream",
     "text": [
      "Requirement already satisfied: gensim in /opt/conda/lib/python3.10/site-packages (4.3.2)\r\n",
      "Requirement already satisfied: numpy>=1.18.5 in /opt/conda/lib/python3.10/site-packages (from gensim) (1.24.3)\r\n",
      "Requirement already satisfied: scipy>=1.7.0 in /opt/conda/lib/python3.10/site-packages (from gensim) (1.11.4)\r\n",
      "Requirement already satisfied: smart-open>=1.8.1 in /opt/conda/lib/python3.10/site-packages (from gensim) (6.3.0)\r\n"
     ]
    }
   ],
   "source": [
    "! pip install --upgrade gensim"
   ]
  },
  {
   "cell_type": "code",
   "execution_count": 6,
   "id": "ea940bbe",
   "metadata": {
    "execution": {
     "iopub.execute_input": "2023-12-10T20:39:18.730486Z",
     "iopub.status.busy": "2023-12-10T20:39:18.730056Z",
     "iopub.status.idle": "2023-12-10T20:39:42.695189Z",
     "shell.execute_reply": "2023-12-10T20:39:42.693547Z"
    },
    "papermill": {
     "duration": 23.995588,
     "end_time": "2023-12-10T20:39:42.699168",
     "exception": false,
     "start_time": "2023-12-10T20:39:18.703580",
     "status": "completed"
    },
    "tags": []
   },
   "outputs": [],
   "source": [
    "import gensim #library for topic modelling \n",
    "from gensim.models import LdaMulticore\n",
    "from gensim.utils import simple_preprocess\n",
    "from gensim.parsing.preprocessing import STOPWORDS\n",
    "\n",
    "from nltk.stem.porter import *\n",
    "#spacy\n",
    "import spacy\n",
    "from nltk.corpus import stopwords"
   ]
  },
  {
   "cell_type": "code",
   "execution_count": 7,
   "id": "4aeeca93",
   "metadata": {
    "execution": {
     "iopub.execute_input": "2023-12-10T20:39:42.751837Z",
     "iopub.status.busy": "2023-12-10T20:39:42.751042Z",
     "iopub.status.idle": "2023-12-10T20:39:42.788170Z",
     "shell.execute_reply": "2023-12-10T20:39:42.786524Z"
    },
    "papermill": {
     "duration": 0.069062,
     "end_time": "2023-12-10T20:39:42.792152",
     "exception": false,
     "start_time": "2023-12-10T20:39:42.723090",
     "status": "completed"
    },
    "tags": []
   },
   "outputs": [
    {
     "name": "stdout",
     "output_type": "stream",
     "text": [
      "[nltk_data] Downloading package wordnet to /usr/share/nltk_data...\n",
      "[nltk_data]   Package wordnet is already up-to-date!\n"
     ]
    },
    {
     "data": {
      "text/plain": [
       "True"
      ]
     },
     "execution_count": 7,
     "metadata": {},
     "output_type": "execute_result"
    }
   ],
   "source": [
    "import nltk   #natural language toolkit for preprocessing the text data\n",
    "\n",
    "from nltk.stem import WordNetLemmatizer   #used to Lemmatize using WordNet's    #built-in morphy function.Returns the input word unchanged if it cannot #be found in WordNet. \n",
    "\n",
    "from nltk.stem import SnowballStemmer #used for stemming in NLP\n",
    "from nltk.stem.porter import * #porter stemming \n",
    "\n",
    "from wordcloud import WordCloud #visualization techniques for #frequently repeated texts \n",
    "\n",
    "nltk.download('wordnet')  #database of words in more than 200 #languages"
   ]
  },
  {
   "cell_type": "code",
   "execution_count": 8,
   "id": "5bce7553",
   "metadata": {
    "execution": {
     "iopub.execute_input": "2023-12-10T20:39:42.842837Z",
     "iopub.status.busy": "2023-12-10T20:39:42.842406Z",
     "iopub.status.idle": "2023-12-10T20:39:58.454998Z",
     "shell.execute_reply": "2023-12-10T20:39:58.453123Z"
    },
    "papermill": {
     "duration": 15.641666,
     "end_time": "2023-12-10T20:39:58.458210",
     "exception": false,
     "start_time": "2023-12-10T20:39:42.816544",
     "status": "completed"
    },
    "tags": []
   },
   "outputs": [
    {
     "name": "stdout",
     "output_type": "stream",
     "text": [
      "Requirement already satisfied: wordcloud in /opt/conda/lib/python3.10/site-packages (1.9.2)\r\n",
      "Requirement already satisfied: numpy>=1.6.1 in /opt/conda/lib/python3.10/site-packages (from wordcloud) (1.24.3)\r\n",
      "Requirement already satisfied: pillow in /opt/conda/lib/python3.10/site-packages (from wordcloud) (10.1.0)\r\n",
      "Requirement already satisfied: matplotlib in /opt/conda/lib/python3.10/site-packages (from wordcloud) (3.7.4)\r\n",
      "Requirement already satisfied: contourpy>=1.0.1 in /opt/conda/lib/python3.10/site-packages (from matplotlib->wordcloud) (1.1.0)\r\n",
      "Requirement already satisfied: cycler>=0.10 in /opt/conda/lib/python3.10/site-packages (from matplotlib->wordcloud) (0.11.0)\r\n",
      "Requirement already satisfied: fonttools>=4.22.0 in /opt/conda/lib/python3.10/site-packages (from matplotlib->wordcloud) (4.42.1)\r\n",
      "Requirement already satisfied: kiwisolver>=1.0.1 in /opt/conda/lib/python3.10/site-packages (from matplotlib->wordcloud) (1.4.4)\r\n",
      "Requirement already satisfied: packaging>=20.0 in /opt/conda/lib/python3.10/site-packages (from matplotlib->wordcloud) (21.3)\r\n",
      "Requirement already satisfied: pyparsing>=2.3.1 in /opt/conda/lib/python3.10/site-packages (from matplotlib->wordcloud) (3.0.9)\r\n",
      "Requirement already satisfied: python-dateutil>=2.7 in /opt/conda/lib/python3.10/site-packages (from matplotlib->wordcloud) (2.8.2)\r\n",
      "Requirement already satisfied: six>=1.5 in /opt/conda/lib/python3.10/site-packages (from python-dateutil>=2.7->matplotlib->wordcloud) (1.16.0)\r\n"
     ]
    }
   ],
   "source": [
    "! pip install wordcloud  #installing wordcloud library"
   ]
  },
  {
   "cell_type": "code",
   "execution_count": 9,
   "id": "ee908018",
   "metadata": {
    "execution": {
     "iopub.execute_input": "2023-12-10T20:39:58.590850Z",
     "iopub.status.busy": "2023-12-10T20:39:58.590321Z",
     "iopub.status.idle": "2023-12-10T20:39:58.597529Z",
     "shell.execute_reply": "2023-12-10T20:39:58.595847Z"
    },
    "papermill": {
     "duration": 0.03654,
     "end_time": "2023-12-10T20:39:58.600583",
     "exception": false,
     "start_time": "2023-12-10T20:39:58.564043",
     "status": "completed"
    },
    "tags": []
   },
   "outputs": [],
   "source": [
    "from os import listdir\n",
    "from os.path import isfile, join"
   ]
  },
  {
   "cell_type": "code",
   "execution_count": 10,
   "id": "65f55d50",
   "metadata": {
    "execution": {
     "iopub.execute_input": "2023-12-10T20:39:58.652121Z",
     "iopub.status.busy": "2023-12-10T20:39:58.651598Z",
     "iopub.status.idle": "2023-12-10T20:40:15.863281Z",
     "shell.execute_reply": "2023-12-10T20:40:15.861822Z"
    },
    "papermill": {
     "duration": 17.24049,
     "end_time": "2023-12-10T20:40:15.866073",
     "exception": false,
     "start_time": "2023-12-10T20:39:58.625583",
     "status": "completed"
    },
    "tags": []
   },
   "outputs": [
    {
     "name": "stdout",
     "output_type": "stream",
     "text": [
      "Collecting pdfplumber\r\n",
      "  Obtaining dependency information for pdfplumber from https://files.pythonhosted.org/packages/f8/d3/f58c2d5d86a585e438c6708f568eca79e7c4e6ee3d5210cf8b31d38cb021/pdfplumber-0.10.3-py3-none-any.whl.metadata\r\n",
      "  Downloading pdfplumber-0.10.3-py3-none-any.whl.metadata (38 kB)\r\n",
      "Collecting pdfminer.six==20221105 (from pdfplumber)\r\n",
      "  Downloading pdfminer.six-20221105-py3-none-any.whl (5.6 MB)\r\n",
      "\u001b[2K     \u001b[90m━━━━━━━━━━━━━━━━━━━━━━━━━━━━━━━━━━━━━━━━\u001b[0m \u001b[32m5.6/5.6 MB\u001b[0m \u001b[31m42.1 MB/s\u001b[0m eta \u001b[36m0:00:00\u001b[0m\r\n",
      "\u001b[?25hRequirement already satisfied: Pillow>=9.1 in /opt/conda/lib/python3.10/site-packages (from pdfplumber) (10.1.0)\r\n",
      "Collecting pypdfium2>=4.18.0 (from pdfplumber)\r\n",
      "  Obtaining dependency information for pypdfium2>=4.18.0 from https://files.pythonhosted.org/packages/c7/2f/0ba6715e498a467195d132dfd38238469fb07afb19c6dea1a6d0c4163cc2/pypdfium2-4.25.0-py3-none-manylinux_2_17_x86_64.whl.metadata\r\n",
      "  Downloading pypdfium2-4.25.0-py3-none-manylinux_2_17_x86_64.whl.metadata (47 kB)\r\n",
      "\u001b[2K     \u001b[90m━━━━━━━━━━━━━━━━━━━━━━━━━━━━━━━━━━━━━━━━\u001b[0m \u001b[32m47.8/47.8 kB\u001b[0m \u001b[31m3.4 MB/s\u001b[0m eta \u001b[36m0:00:00\u001b[0m\r\n",
      "\u001b[?25hRequirement already satisfied: charset-normalizer>=2.0.0 in /opt/conda/lib/python3.10/site-packages (from pdfminer.six==20221105->pdfplumber) (3.2.0)\r\n",
      "Requirement already satisfied: cryptography>=36.0.0 in /opt/conda/lib/python3.10/site-packages (from pdfminer.six==20221105->pdfplumber) (40.0.2)\r\n",
      "Requirement already satisfied: cffi>=1.12 in /opt/conda/lib/python3.10/site-packages (from cryptography>=36.0.0->pdfminer.six==20221105->pdfplumber) (1.15.1)\r\n",
      "Requirement already satisfied: pycparser in /opt/conda/lib/python3.10/site-packages (from cffi>=1.12->cryptography>=36.0.0->pdfminer.six==20221105->pdfplumber) (2.21)\r\n",
      "Downloading pdfplumber-0.10.3-py3-none-any.whl (48 kB)\r\n",
      "\u001b[2K   \u001b[90m━━━━━━━━━━━━━━━━━━━━━━━━━━━━━━━━━━━━━━━━\u001b[0m \u001b[32m49.0/49.0 kB\u001b[0m \u001b[31m3.0 MB/s\u001b[0m eta \u001b[36m0:00:00\u001b[0m\r\n",
      "\u001b[?25hDownloading pypdfium2-4.25.0-py3-none-manylinux_2_17_x86_64.whl (3.0 MB)\r\n",
      "\u001b[2K   \u001b[90m━━━━━━━━━━━━━━━━━━━━━━━━━━━━━━━━━━━━━━━━\u001b[0m \u001b[32m3.0/3.0 MB\u001b[0m \u001b[31m41.5 MB/s\u001b[0m eta \u001b[36m0:00:00\u001b[0m\r\n",
      "\u001b[?25hInstalling collected packages: pypdfium2, pdfminer.six, pdfplumber\r\n",
      "Successfully installed pdfminer.six-20221105 pdfplumber-0.10.3 pypdfium2-4.25.0\r\n"
     ]
    }
   ],
   "source": [
    "!pip install pdfplumber"
   ]
  },
  {
   "cell_type": "code",
   "execution_count": 11,
   "id": "9bcef47c",
   "metadata": {
    "execution": {
     "iopub.execute_input": "2023-12-10T20:40:15.919917Z",
     "iopub.status.busy": "2023-12-10T20:40:15.919462Z",
     "iopub.status.idle": "2023-12-10T20:40:15.978936Z",
     "shell.execute_reply": "2023-12-10T20:40:15.977543Z"
    },
    "papermill": {
     "duration": 0.089481,
     "end_time": "2023-12-10T20:40:15.981909",
     "exception": false,
     "start_time": "2023-12-10T20:40:15.892428",
     "status": "completed"
    },
    "tags": []
   },
   "outputs": [],
   "source": [
    "import glob\n",
    "import pdfplumber"
   ]
  },
  {
   "cell_type": "code",
   "execution_count": null,
   "id": "01ff7122",
   "metadata": {
    "papermill": {
     "duration": 0.026494,
     "end_time": "2023-12-10T20:40:16.033889",
     "exception": false,
     "start_time": "2023-12-10T20:40:16.007395",
     "status": "completed"
    },
    "tags": []
   },
   "outputs": [],
   "source": []
  },
  {
   "cell_type": "markdown",
   "id": "d960b41c",
   "metadata": {
    "papermill": {
     "duration": 0.024082,
     "end_time": "2023-12-10T20:40:16.082639",
     "exception": false,
     "start_time": "2023-12-10T20:40:16.058557",
     "status": "completed"
    },
    "tags": []
   },
   "source": [
    "### Step 1 : Make smaller sample size of 100 resumes and job postings & feature engineering"
   ]
  },
  {
   "cell_type": "code",
   "execution_count": 12,
   "id": "eb2c92da",
   "metadata": {
    "execution": {
     "iopub.execute_input": "2023-12-10T20:40:16.133918Z",
     "iopub.status.busy": "2023-12-10T20:40:16.133490Z",
     "iopub.status.idle": "2023-12-10T20:40:21.269836Z",
     "shell.execute_reply": "2023-12-10T20:40:21.268148Z"
    },
    "papermill": {
     "duration": 5.165839,
     "end_time": "2023-12-10T20:40:21.273301",
     "exception": false,
     "start_time": "2023-12-10T20:40:16.107462",
     "status": "completed"
    },
    "tags": []
   },
   "outputs": [],
   "source": [
    "job_postings = pd.read_csv('/kaggle/input/linkedin-job-postings/job_postings.csv')\n",
    "job_postings100=job_postings.loc[0:99]\n",
    "resume = pd.read_csv('/kaggle/input/resume-dataset/Resume/Resume.csv')\n",
    "resume100=resume.loc[0:99]"
   ]
  },
  {
   "cell_type": "code",
   "execution_count": 13,
   "id": "dc9fd06d",
   "metadata": {
    "execution": {
     "iopub.execute_input": "2023-12-10T20:40:21.333001Z",
     "iopub.status.busy": "2023-12-10T20:40:21.332493Z",
     "iopub.status.idle": "2023-12-10T20:40:21.360598Z",
     "shell.execute_reply": "2023-12-10T20:40:21.359071Z"
    },
    "papermill": {
     "duration": 0.061346,
     "end_time": "2023-12-10T20:40:21.363663",
     "exception": false,
     "start_time": "2023-12-10T20:40:21.302317",
     "status": "completed"
    },
    "tags": []
   },
   "outputs": [
    {
     "data": {
      "text/html": [
       "<div>\n",
       "<style scoped>\n",
       "    .dataframe tbody tr th:only-of-type {\n",
       "        vertical-align: middle;\n",
       "    }\n",
       "\n",
       "    .dataframe tbody tr th {\n",
       "        vertical-align: top;\n",
       "    }\n",
       "\n",
       "    .dataframe thead th {\n",
       "        text-align: right;\n",
       "    }\n",
       "</style>\n",
       "<table border=\"1\" class=\"dataframe\">\n",
       "  <thead>\n",
       "    <tr style=\"text-align: right;\">\n",
       "      <th></th>\n",
       "      <th>ID</th>\n",
       "      <th>Resume_str</th>\n",
       "      <th>Resume_html</th>\n",
       "      <th>Category</th>\n",
       "    </tr>\n",
       "  </thead>\n",
       "  <tbody>\n",
       "    <tr>\n",
       "      <th>0</th>\n",
       "      <td>16852973</td>\n",
       "      <td>HR ADMINISTRATOR/MARKETING ASSOCIATE\\...</td>\n",
       "      <td>&lt;div class=\"fontsize fontface vmargins hmargin...</td>\n",
       "      <td>HR</td>\n",
       "    </tr>\n",
       "    <tr>\n",
       "      <th>1</th>\n",
       "      <td>22323967</td>\n",
       "      <td>HR SPECIALIST, US HR OPERATIONS      ...</td>\n",
       "      <td>&lt;div class=\"fontsize fontface vmargins hmargin...</td>\n",
       "      <td>HR</td>\n",
       "    </tr>\n",
       "    <tr>\n",
       "      <th>2</th>\n",
       "      <td>33176873</td>\n",
       "      <td>HR DIRECTOR       Summary      Over 2...</td>\n",
       "      <td>&lt;div class=\"fontsize fontface vmargins hmargin...</td>\n",
       "      <td>HR</td>\n",
       "    </tr>\n",
       "    <tr>\n",
       "      <th>3</th>\n",
       "      <td>27018550</td>\n",
       "      <td>HR SPECIALIST       Summary    Dedica...</td>\n",
       "      <td>&lt;div class=\"fontsize fontface vmargins hmargin...</td>\n",
       "      <td>HR</td>\n",
       "    </tr>\n",
       "    <tr>\n",
       "      <th>4</th>\n",
       "      <td>17812897</td>\n",
       "      <td>HR MANAGER         Skill Highlights  ...</td>\n",
       "      <td>&lt;div class=\"fontsize fontface vmargins hmargin...</td>\n",
       "      <td>HR</td>\n",
       "    </tr>\n",
       "  </tbody>\n",
       "</table>\n",
       "</div>"
      ],
      "text/plain": [
       "         ID                                         Resume_str  \\\n",
       "0  16852973           HR ADMINISTRATOR/MARKETING ASSOCIATE\\...   \n",
       "1  22323967           HR SPECIALIST, US HR OPERATIONS      ...   \n",
       "2  33176873           HR DIRECTOR       Summary      Over 2...   \n",
       "3  27018550           HR SPECIALIST       Summary    Dedica...   \n",
       "4  17812897           HR MANAGER         Skill Highlights  ...   \n",
       "\n",
       "                                         Resume_html Category  \n",
       "0  <div class=\"fontsize fontface vmargins hmargin...       HR  \n",
       "1  <div class=\"fontsize fontface vmargins hmargin...       HR  \n",
       "2  <div class=\"fontsize fontface vmargins hmargin...       HR  \n",
       "3  <div class=\"fontsize fontface vmargins hmargin...       HR  \n",
       "4  <div class=\"fontsize fontface vmargins hmargin...       HR  "
      ]
     },
     "execution_count": 13,
     "metadata": {},
     "output_type": "execute_result"
    }
   ],
   "source": [
    "resume100.head()"
   ]
  },
  {
   "cell_type": "code",
   "execution_count": 14,
   "id": "b88f7dfe",
   "metadata": {
    "execution": {
     "iopub.execute_input": "2023-12-10T20:40:21.425041Z",
     "iopub.status.busy": "2023-12-10T20:40:21.424557Z",
     "iopub.status.idle": "2023-12-10T20:40:21.465997Z",
     "shell.execute_reply": "2023-12-10T20:40:21.464643Z"
    },
    "papermill": {
     "duration": 0.075826,
     "end_time": "2023-12-10T20:40:21.468958",
     "exception": false,
     "start_time": "2023-12-10T20:40:21.393132",
     "status": "completed"
    },
    "tags": []
   },
   "outputs": [
    {
     "data": {
      "text/html": [
       "<div>\n",
       "<style scoped>\n",
       "    .dataframe tbody tr th:only-of-type {\n",
       "        vertical-align: middle;\n",
       "    }\n",
       "\n",
       "    .dataframe tbody tr th {\n",
       "        vertical-align: top;\n",
       "    }\n",
       "\n",
       "    .dataframe thead th {\n",
       "        text-align: right;\n",
       "    }\n",
       "</style>\n",
       "<table border=\"1\" class=\"dataframe\">\n",
       "  <thead>\n",
       "    <tr style=\"text-align: right;\">\n",
       "      <th></th>\n",
       "      <th>job_id</th>\n",
       "      <th>company_id</th>\n",
       "      <th>title</th>\n",
       "      <th>description</th>\n",
       "      <th>max_salary</th>\n",
       "      <th>med_salary</th>\n",
       "      <th>min_salary</th>\n",
       "      <th>pay_period</th>\n",
       "      <th>formatted_work_type</th>\n",
       "      <th>location</th>\n",
       "      <th>...</th>\n",
       "      <th>closed_time</th>\n",
       "      <th>formatted_experience_level</th>\n",
       "      <th>skills_desc</th>\n",
       "      <th>listed_time</th>\n",
       "      <th>posting_domain</th>\n",
       "      <th>sponsored</th>\n",
       "      <th>work_type</th>\n",
       "      <th>currency</th>\n",
       "      <th>compensation_type</th>\n",
       "      <th>scraped</th>\n",
       "    </tr>\n",
       "  </thead>\n",
       "  <tbody>\n",
       "    <tr>\n",
       "      <th>0</th>\n",
       "      <td>3757940104</td>\n",
       "      <td>553718.0</td>\n",
       "      <td>Hearing Care Provider</td>\n",
       "      <td>Overview\\n\\nHearingLife is a national hearing ...</td>\n",
       "      <td>NaN</td>\n",
       "      <td>5250.00</td>\n",
       "      <td>NaN</td>\n",
       "      <td>MONTHLY</td>\n",
       "      <td>Full-time</td>\n",
       "      <td>Little River, SC</td>\n",
       "      <td>...</td>\n",
       "      <td>NaN</td>\n",
       "      <td>Entry level</td>\n",
       "      <td>NaN</td>\n",
       "      <td>1.699090e+12</td>\n",
       "      <td>careers-demant.icims.com</td>\n",
       "      <td>0</td>\n",
       "      <td>FULL_TIME</td>\n",
       "      <td>USD</td>\n",
       "      <td>BASE_SALARY</td>\n",
       "      <td>1699138101</td>\n",
       "    </tr>\n",
       "    <tr>\n",
       "      <th>1</th>\n",
       "      <td>3757940025</td>\n",
       "      <td>2192142.0</td>\n",
       "      <td>Shipping &amp; Receiving Associate 2nd shift (Beav...</td>\n",
       "      <td>Metalcraft of Mayville\\nMetalcraft of Mayville...</td>\n",
       "      <td>NaN</td>\n",
       "      <td>NaN</td>\n",
       "      <td>NaN</td>\n",
       "      <td>NaN</td>\n",
       "      <td>Full-time</td>\n",
       "      <td>Beaver Dam, WI</td>\n",
       "      <td>...</td>\n",
       "      <td>NaN</td>\n",
       "      <td>NaN</td>\n",
       "      <td>NaN</td>\n",
       "      <td>1.699080e+12</td>\n",
       "      <td>www.click2apply.net</td>\n",
       "      <td>0</td>\n",
       "      <td>FULL_TIME</td>\n",
       "      <td>NaN</td>\n",
       "      <td>NaN</td>\n",
       "      <td>1699085420</td>\n",
       "    </tr>\n",
       "    <tr>\n",
       "      <th>2</th>\n",
       "      <td>3757938019</td>\n",
       "      <td>474443.0</td>\n",
       "      <td>Manager, Engineering</td>\n",
       "      <td>\\nThe TSUBAKI name is synonymous with excellen...</td>\n",
       "      <td>NaN</td>\n",
       "      <td>NaN</td>\n",
       "      <td>NaN</td>\n",
       "      <td>NaN</td>\n",
       "      <td>Full-time</td>\n",
       "      <td>Bessemer, AL</td>\n",
       "      <td>...</td>\n",
       "      <td>NaN</td>\n",
       "      <td>NaN</td>\n",
       "      <td>Bachelor's Degree in Mechanical Engineering pr...</td>\n",
       "      <td>1.699080e+12</td>\n",
       "      <td>www.click2apply.net</td>\n",
       "      <td>0</td>\n",
       "      <td>FULL_TIME</td>\n",
       "      <td>NaN</td>\n",
       "      <td>NaN</td>\n",
       "      <td>1699085644</td>\n",
       "    </tr>\n",
       "    <tr>\n",
       "      <th>3</th>\n",
       "      <td>3757938018</td>\n",
       "      <td>18213359.0</td>\n",
       "      <td>Cook</td>\n",
       "      <td>descriptionTitle\\n\\n Looking for a great oppor...</td>\n",
       "      <td>NaN</td>\n",
       "      <td>22.27</td>\n",
       "      <td>NaN</td>\n",
       "      <td>HOURLY</td>\n",
       "      <td>Full-time</td>\n",
       "      <td>Aliso Viejo, CA</td>\n",
       "      <td>...</td>\n",
       "      <td>NaN</td>\n",
       "      <td>Entry level</td>\n",
       "      <td>NaN</td>\n",
       "      <td>1.699080e+12</td>\n",
       "      <td>jobs.apploi.com</td>\n",
       "      <td>0</td>\n",
       "      <td>FULL_TIME</td>\n",
       "      <td>USD</td>\n",
       "      <td>BASE_SALARY</td>\n",
       "      <td>1699087461</td>\n",
       "    </tr>\n",
       "    <tr>\n",
       "      <th>4</th>\n",
       "      <td>3757937095</td>\n",
       "      <td>437225.0</td>\n",
       "      <td>Principal Cloud Security Architect (Remote)</td>\n",
       "      <td>Job Summary\\nAt iHerb, we are on a mission to ...</td>\n",
       "      <td>275834.0</td>\n",
       "      <td>NaN</td>\n",
       "      <td>205956.0</td>\n",
       "      <td>YEARLY</td>\n",
       "      <td>Full-time</td>\n",
       "      <td>United States</td>\n",
       "      <td>...</td>\n",
       "      <td>NaN</td>\n",
       "      <td>Mid-Senior level</td>\n",
       "      <td>NaN</td>\n",
       "      <td>1.699090e+12</td>\n",
       "      <td>careers.iherb.com</td>\n",
       "      <td>0</td>\n",
       "      <td>FULL_TIME</td>\n",
       "      <td>USD</td>\n",
       "      <td>BASE_SALARY</td>\n",
       "      <td>1699085346</td>\n",
       "    </tr>\n",
       "  </tbody>\n",
       "</table>\n",
       "<p>5 rows × 28 columns</p>\n",
       "</div>"
      ],
      "text/plain": [
       "       job_id  company_id                                              title  \\\n",
       "0  3757940104    553718.0                              Hearing Care Provider   \n",
       "1  3757940025   2192142.0  Shipping & Receiving Associate 2nd shift (Beav...   \n",
       "2  3757938019    474443.0                               Manager, Engineering   \n",
       "3  3757938018  18213359.0                                               Cook   \n",
       "4  3757937095    437225.0        Principal Cloud Security Architect (Remote)   \n",
       "\n",
       "                                         description  max_salary  med_salary  \\\n",
       "0  Overview\\n\\nHearingLife is a national hearing ...         NaN     5250.00   \n",
       "1  Metalcraft of Mayville\\nMetalcraft of Mayville...         NaN         NaN   \n",
       "2  \\nThe TSUBAKI name is synonymous with excellen...         NaN         NaN   \n",
       "3  descriptionTitle\\n\\n Looking for a great oppor...         NaN       22.27   \n",
       "4  Job Summary\\nAt iHerb, we are on a mission to ...    275834.0         NaN   \n",
       "\n",
       "   min_salary pay_period formatted_work_type          location  ...  \\\n",
       "0         NaN    MONTHLY           Full-time  Little River, SC  ...   \n",
       "1         NaN        NaN           Full-time    Beaver Dam, WI  ...   \n",
       "2         NaN        NaN           Full-time      Bessemer, AL  ...   \n",
       "3         NaN     HOURLY           Full-time   Aliso Viejo, CA  ...   \n",
       "4    205956.0     YEARLY           Full-time     United States  ...   \n",
       "\n",
       "   closed_time  formatted_experience_level  \\\n",
       "0          NaN                 Entry level   \n",
       "1          NaN                         NaN   \n",
       "2          NaN                         NaN   \n",
       "3          NaN                 Entry level   \n",
       "4          NaN            Mid-Senior level   \n",
       "\n",
       "                                         skills_desc   listed_time  \\\n",
       "0                                                NaN  1.699090e+12   \n",
       "1                                                NaN  1.699080e+12   \n",
       "2  Bachelor's Degree in Mechanical Engineering pr...  1.699080e+12   \n",
       "3                                                NaN  1.699080e+12   \n",
       "4                                                NaN  1.699090e+12   \n",
       "\n",
       "             posting_domain sponsored  work_type  currency  compensation_type  \\\n",
       "0  careers-demant.icims.com         0  FULL_TIME       USD        BASE_SALARY   \n",
       "1       www.click2apply.net         0  FULL_TIME       NaN                NaN   \n",
       "2       www.click2apply.net         0  FULL_TIME       NaN                NaN   \n",
       "3           jobs.apploi.com         0  FULL_TIME       USD        BASE_SALARY   \n",
       "4         careers.iherb.com         0  FULL_TIME       USD        BASE_SALARY   \n",
       "\n",
       "      scraped  \n",
       "0  1699138101  \n",
       "1  1699085420  \n",
       "2  1699085644  \n",
       "3  1699087461  \n",
       "4  1699085346  \n",
       "\n",
       "[5 rows x 28 columns]"
      ]
     },
     "execution_count": 14,
     "metadata": {},
     "output_type": "execute_result"
    }
   ],
   "source": [
    "job_postings100.head()"
   ]
  },
  {
   "cell_type": "code",
   "execution_count": 15,
   "id": "bf1e47a2",
   "metadata": {
    "execution": {
     "iopub.execute_input": "2023-12-10T20:40:21.527275Z",
     "iopub.status.busy": "2023-12-10T20:40:21.526823Z",
     "iopub.status.idle": "2023-12-10T20:40:21.541279Z",
     "shell.execute_reply": "2023-12-10T20:40:21.540073Z"
    },
    "papermill": {
     "duration": 0.046456,
     "end_time": "2023-12-10T20:40:21.543732",
     "exception": false,
     "start_time": "2023-12-10T20:40:21.497276",
     "status": "completed"
    },
    "tags": []
   },
   "outputs": [
    {
     "data": {
      "text/plain": [
       "(100, 2)"
      ]
     },
     "execution_count": 15,
     "metadata": {},
     "output_type": "execute_result"
    }
   ],
   "source": [
    "#drop the 26 columns you don't need \n",
    "job_postings1002=job_postings100.drop(columns=['job_id','company_id', 'max_salary', 'med_salary','min_salary', 'pay_period','formatted_work_type','location','closed_time', 'formatted_experience_level', 'skills_desc', 'listed_time','applies', 'original_listed_time','remote_allowed','views','job_posting_url','application_url','application_type','expiry', 'posting_domain','sponsored','work_type', 'currency','compensation_type', 'scraped'])\n",
    "job_postings1002.shape\n"
   ]
  },
  {
   "cell_type": "code",
   "execution_count": 16,
   "id": "e6b42c90",
   "metadata": {
    "execution": {
     "iopub.execute_input": "2023-12-10T20:40:21.598614Z",
     "iopub.status.busy": "2023-12-10T20:40:21.598198Z",
     "iopub.status.idle": "2023-12-10T20:40:21.610622Z",
     "shell.execute_reply": "2023-12-10T20:40:21.609230Z"
    },
    "papermill": {
     "duration": 0.043255,
     "end_time": "2023-12-10T20:40:21.613302",
     "exception": false,
     "start_time": "2023-12-10T20:40:21.570047",
     "status": "completed"
    },
    "tags": []
   },
   "outputs": [
    {
     "data": {
      "text/html": [
       "<div>\n",
       "<style scoped>\n",
       "    .dataframe tbody tr th:only-of-type {\n",
       "        vertical-align: middle;\n",
       "    }\n",
       "\n",
       "    .dataframe tbody tr th {\n",
       "        vertical-align: top;\n",
       "    }\n",
       "\n",
       "    .dataframe thead th {\n",
       "        text-align: right;\n",
       "    }\n",
       "</style>\n",
       "<table border=\"1\" class=\"dataframe\">\n",
       "  <thead>\n",
       "    <tr style=\"text-align: right;\">\n",
       "      <th></th>\n",
       "      <th>title</th>\n",
       "      <th>description</th>\n",
       "    </tr>\n",
       "  </thead>\n",
       "  <tbody>\n",
       "    <tr>\n",
       "      <th>0</th>\n",
       "      <td>Hearing Care Provider</td>\n",
       "      <td>Overview\\n\\nHearingLife is a national hearing ...</td>\n",
       "    </tr>\n",
       "    <tr>\n",
       "      <th>1</th>\n",
       "      <td>Shipping &amp; Receiving Associate 2nd shift (Beav...</td>\n",
       "      <td>Metalcraft of Mayville\\nMetalcraft of Mayville...</td>\n",
       "    </tr>\n",
       "    <tr>\n",
       "      <th>2</th>\n",
       "      <td>Manager, Engineering</td>\n",
       "      <td>\\nThe TSUBAKI name is synonymous with excellen...</td>\n",
       "    </tr>\n",
       "    <tr>\n",
       "      <th>3</th>\n",
       "      <td>Cook</td>\n",
       "      <td>descriptionTitle\\n\\n Looking for a great oppor...</td>\n",
       "    </tr>\n",
       "    <tr>\n",
       "      <th>4</th>\n",
       "      <td>Principal Cloud Security Architect (Remote)</td>\n",
       "      <td>Job Summary\\nAt iHerb, we are on a mission to ...</td>\n",
       "    </tr>\n",
       "  </tbody>\n",
       "</table>\n",
       "</div>"
      ],
      "text/plain": [
       "                                               title  \\\n",
       "0                              Hearing Care Provider   \n",
       "1  Shipping & Receiving Associate 2nd shift (Beav...   \n",
       "2                               Manager, Engineering   \n",
       "3                                               Cook   \n",
       "4        Principal Cloud Security Architect (Remote)   \n",
       "\n",
       "                                         description  \n",
       "0  Overview\\n\\nHearingLife is a national hearing ...  \n",
       "1  Metalcraft of Mayville\\nMetalcraft of Mayville...  \n",
       "2  \\nThe TSUBAKI name is synonymous with excellen...  \n",
       "3  descriptionTitle\\n\\n Looking for a great oppor...  \n",
       "4  Job Summary\\nAt iHerb, we are on a mission to ...  "
      ]
     },
     "execution_count": 16,
     "metadata": {},
     "output_type": "execute_result"
    }
   ],
   "source": [
    "job_postings1002.head()"
   ]
  },
  {
   "cell_type": "code",
   "execution_count": 17,
   "id": "1c5f8171",
   "metadata": {
    "execution": {
     "iopub.execute_input": "2023-12-10T20:40:21.673165Z",
     "iopub.status.busy": "2023-12-10T20:40:21.672713Z",
     "iopub.status.idle": "2023-12-10T20:40:21.678286Z",
     "shell.execute_reply": "2023-12-10T20:40:21.677024Z"
    },
    "papermill": {
     "duration": 0.040478,
     "end_time": "2023-12-10T20:40:21.680912",
     "exception": false,
     "start_time": "2023-12-10T20:40:21.640434",
     "status": "completed"
    },
    "tags": []
   },
   "outputs": [],
   "source": [
    "#Feature Engineering \n",
    "#Deleting the publish data column since we want only headline_text columns. \n",
    "del job_postings1002['title']"
   ]
  },
  {
   "cell_type": "code",
   "execution_count": 18,
   "id": "807d6e8b",
   "metadata": {
    "execution": {
     "iopub.execute_input": "2023-12-10T20:40:21.739642Z",
     "iopub.status.busy": "2023-12-10T20:40:21.738008Z",
     "iopub.status.idle": "2023-12-10T20:40:21.754765Z",
     "shell.execute_reply": "2023-12-10T20:40:21.750351Z"
    },
    "papermill": {
     "duration": 0.049768,
     "end_time": "2023-12-10T20:40:21.758176",
     "exception": false,
     "start_time": "2023-12-10T20:40:21.708408",
     "status": "completed"
    },
    "tags": []
   },
   "outputs": [
    {
     "data": {
      "text/html": [
       "<div>\n",
       "<style scoped>\n",
       "    .dataframe tbody tr th:only-of-type {\n",
       "        vertical-align: middle;\n",
       "    }\n",
       "\n",
       "    .dataframe tbody tr th {\n",
       "        vertical-align: top;\n",
       "    }\n",
       "\n",
       "    .dataframe thead th {\n",
       "        text-align: right;\n",
       "    }\n",
       "</style>\n",
       "<table border=\"1\" class=\"dataframe\">\n",
       "  <thead>\n",
       "    <tr style=\"text-align: right;\">\n",
       "      <th></th>\n",
       "      <th>description</th>\n",
       "    </tr>\n",
       "  </thead>\n",
       "  <tbody>\n",
       "    <tr>\n",
       "      <th>0</th>\n",
       "      <td>Overview\\n\\nHearingLife is a national hearing ...</td>\n",
       "    </tr>\n",
       "    <tr>\n",
       "      <th>1</th>\n",
       "      <td>Metalcraft of Mayville\\nMetalcraft of Mayville...</td>\n",
       "    </tr>\n",
       "    <tr>\n",
       "      <th>2</th>\n",
       "      <td>\\nThe TSUBAKI name is synonymous with excellen...</td>\n",
       "    </tr>\n",
       "    <tr>\n",
       "      <th>3</th>\n",
       "      <td>descriptionTitle\\n\\n Looking for a great oppor...</td>\n",
       "    </tr>\n",
       "    <tr>\n",
       "      <th>4</th>\n",
       "      <td>Job Summary\\nAt iHerb, we are on a mission to ...</td>\n",
       "    </tr>\n",
       "  </tbody>\n",
       "</table>\n",
       "</div>"
      ],
      "text/plain": [
       "                                         description\n",
       "0  Overview\\n\\nHearingLife is a national hearing ...\n",
       "1  Metalcraft of Mayville\\nMetalcraft of Mayville...\n",
       "2  \\nThe TSUBAKI name is synonymous with excellen...\n",
       "3  descriptionTitle\\n\\n Looking for a great oppor...\n",
       "4  Job Summary\\nAt iHerb, we are on a mission to ..."
      ]
     },
     "execution_count": 18,
     "metadata": {},
     "output_type": "execute_result"
    }
   ],
   "source": [
    "job_postings1002.head()"
   ]
  },
  {
   "cell_type": "markdown",
   "id": "f5b72654",
   "metadata": {
    "papermill": {
     "duration": 0.033835,
     "end_time": "2023-12-10T20:40:21.828541",
     "exception": false,
     "start_time": "2023-12-10T20:40:21.794706",
     "status": "completed"
    },
    "tags": []
   },
   "source": [
    "#### Using wordcloud to get a look at the most frequently appearing words from our datasets"
   ]
  },
  {
   "cell_type": "code",
   "execution_count": 19,
   "id": "5edccdce",
   "metadata": {
    "execution": {
     "iopub.execute_input": "2023-12-10T20:40:21.885464Z",
     "iopub.status.busy": "2023-12-10T20:40:21.884606Z",
     "iopub.status.idle": "2023-12-10T20:40:22.955837Z",
     "shell.execute_reply": "2023-12-10T20:40:22.954897Z"
    },
    "papermill": {
     "duration": 1.105683,
     "end_time": "2023-12-10T20:40:22.961171",
     "exception": false,
     "start_time": "2023-12-10T20:40:21.855488",
     "status": "completed"
    },
    "tags": []
   },
   "outputs": [
    {
     "data": {
      "image/png": "[encoded data removed]",
      "text/plain": [
       "<Figure size 5000x700 with 1 Axes>"
      ]
     },
     "metadata": {},
     "output_type": "display_data"
    }
   ],
   "source": [
    "#word cloud visualization for the description \n",
    "wc = WordCloud(\n",
    "    background_color='black',\n",
    "    max_words = 100, \n",
    "    random_state = 42,\n",
    "    max_font_size=110\n",
    "    )\n",
    "wc.generate(' '.join(job_postings1002['description']))\n",
    "plt.figure(figsize=(50,7))\n",
    "plt.imshow(wc)\n",
    "plt.show()"
   ]
  },
  {
   "cell_type": "markdown",
   "id": "b373dc45",
   "metadata": {
    "papermill": {
     "duration": 0.037355,
     "end_time": "2023-12-10T20:40:23.034161",
     "exception": false,
     "start_time": "2023-12-10T20:40:22.996806",
     "status": "completed"
    },
    "tags": []
   },
   "source": [
    "### Topic modeling using Gensim in NLP \n",
    "#### Preprocessing"
   ]
  },
  {
   "cell_type": "code",
   "execution_count": 20,
   "id": "3cf8ab61",
   "metadata": {
    "execution": {
     "iopub.execute_input": "2023-12-10T20:40:23.103794Z",
     "iopub.status.busy": "2023-12-10T20:40:23.103332Z",
     "iopub.status.idle": "2023-12-10T20:40:23.111312Z",
     "shell.execute_reply": "2023-12-10T20:40:23.110006Z"
    },
    "papermill": {
     "duration": 0.045763,
     "end_time": "2023-12-10T20:40:23.114285",
     "exception": false,
     "start_time": "2023-12-10T20:40:23.068522",
     "status": "completed"
    },
    "tags": []
   },
   "outputs": [],
   "source": [
    "#function to perform the pre processing steps on the  dataset\n",
    "stemmer = SnowballStemmer(\"english\")\n",
    "def lemmatize_stemming(text):\n",
    "    return stemmer.stem(WordNetLemmatizer().lemmatize(text, pos='v'))\n",
    "\n",
    "\n",
    "# Tokenize and lemmatize\n",
    "def preprocess(text):\n",
    "    result=[]\n",
    "    for token in gensim.utils.simple_preprocess(text) :\n",
    "        if token not in gensim.parsing.preprocessing.STOPWORDS and len(token) > 3:\n",
    "            #Apply lemmatize_stemming on the token, then add to the results list\n",
    "            result.append(lemmatize_stemming(token))\n",
    "    return result"
   ]
  },
  {
   "cell_type": "code",
   "execution_count": 21,
   "id": "d53873e7",
   "metadata": {
    "execution": {
     "iopub.execute_input": "2023-12-10T20:40:23.181223Z",
     "iopub.status.busy": "2023-12-10T20:40:23.180794Z",
     "iopub.status.idle": "2023-12-10T20:40:26.966611Z",
     "shell.execute_reply": "2023-12-10T20:40:26.965027Z"
    },
    "papermill": {
     "duration": 3.8226,
     "end_time": "2023-12-10T20:40:26.969465",
     "exception": false,
     "start_time": "2023-12-10T20:40:23.146865",
     "status": "completed"
    },
    "tags": []
   },
   "outputs": [
    {
     "data": {
      "text/plain": [
       "0    [overview, hearinglif, nation, hear, care, com...\n",
       "1    [metalcraft, mayvill, metalcraft, mayvill, equ...\n",
       "2    [tsubaki, synonym, excel, qualiti, depend, cus...\n",
       "3    [look, great, opportun, develop, profession, s...\n",
       "4    [summari, iherb, mission, health, well, access...\n",
       "5    [locat, remot, unit, state, america, cardiac, ...\n",
       "6    [compani, gerber, collis, glass, welcom, gerbe...\n",
       "7    [assist, store, director, activ, involv, provi...\n",
       "8    [sign, bonus, guarante, look, foot, door, esta...\n",
       "9    [instrument, qualiti, control, repres, locat, ...\n",
       "Name: description, dtype: object"
      ]
     },
     "execution_count": 21,
     "metadata": {},
     "output_type": "execute_result"
    }
   ],
   "source": [
    "processed_docs = job_postings1002['description'].map(preprocess)\n",
    "processed_docs[:10]"
   ]
  },
  {
   "cell_type": "code",
   "execution_count": 22,
   "id": "9f395e45",
   "metadata": {
    "execution": {
     "iopub.execute_input": "2023-12-10T20:40:27.041902Z",
     "iopub.status.busy": "2023-12-10T20:40:27.041417Z",
     "iopub.status.idle": "2023-12-10T20:40:27.087821Z",
     "shell.execute_reply": "2023-12-10T20:40:27.086294Z"
    },
    "papermill": {
     "duration": 0.085166,
     "end_time": "2023-12-10T20:40:27.091026",
     "exception": false,
     "start_time": "2023-12-10T20:40:27.005860",
     "status": "completed"
    },
    "tags": []
   },
   "outputs": [],
   "source": [
    "#Create a dictionary from 'processed_docs' containing the number of times a word appears \n",
    "dictionary = gensim.corpora.Dictionary(processed_docs)"
   ]
  },
  {
   "cell_type": "code",
   "execution_count": 23,
   "id": "25b1ea0a",
   "metadata": {
    "execution": {
     "iopub.execute_input": "2023-12-10T20:40:27.163144Z",
     "iopub.status.busy": "2023-12-10T20:40:27.162685Z",
     "iopub.status.idle": "2023-12-10T20:40:27.170435Z",
     "shell.execute_reply": "2023-12-10T20:40:27.169281Z"
    },
    "papermill": {
     "duration": 0.047356,
     "end_time": "2023-12-10T20:40:27.173154",
     "exception": false,
     "start_time": "2023-12-10T20:40:27.125798",
     "status": "completed"
    },
    "tags": []
   },
   "outputs": [
    {
     "data": {
      "text/plain": [
       "<gensim.corpora.dictionary.Dictionary at 0x7af454adab00>"
      ]
     },
     "execution_count": 23,
     "metadata": {},
     "output_type": "execute_result"
    }
   ],
   "source": [
    "dictionary #it return the object , hence dictionary is created \n"
   ]
  },
  {
   "cell_type": "code",
   "execution_count": 24,
   "id": "9e0b17e8",
   "metadata": {
    "execution": {
     "iopub.execute_input": "2023-12-10T20:40:27.245362Z",
     "iopub.status.busy": "2023-12-10T20:40:27.244895Z",
     "iopub.status.idle": "2023-12-10T20:40:27.252400Z",
     "shell.execute_reply": "2023-12-10T20:40:27.251250Z"
    },
    "papermill": {
     "duration": 0.04585,
     "end_time": "2023-12-10T20:40:27.255670",
     "exception": false,
     "start_time": "2023-12-10T20:40:27.209820",
     "status": "completed"
    },
    "tags": []
   },
   "outputs": [
    {
     "name": "stdout",
     "output_type": "stream",
     "text": [
      "0 abil\n",
      "1 accord\n",
      "2 accur\n",
      "3 achiev\n",
      "4 act\n",
      "5 action\n"
     ]
    }
   ],
   "source": [
    "#confirm if the Dictionary is created \n",
    "count = 0\n",
    "for k, v in dictionary.iteritems():\n",
    "    print(k, v)\n",
    "    count += 1\n",
    "    if count > 5:\n",
    "        break"
   ]
  },
  {
   "cell_type": "code",
   "execution_count": 25,
   "id": "41a07bab",
   "metadata": {
    "execution": {
     "iopub.execute_input": "2023-12-10T20:40:27.326798Z",
     "iopub.status.busy": "2023-12-10T20:40:27.326334Z",
     "iopub.status.idle": "2023-12-10T20:40:27.331889Z",
     "shell.execute_reply": "2023-12-10T20:40:27.330687Z"
    },
    "papermill": {
     "duration": 0.045674,
     "end_time": "2023-12-10T20:40:27.334745",
     "exception": false,
     "start_time": "2023-12-10T20:40:27.289071",
     "status": "completed"
    },
    "tags": []
   },
   "outputs": [],
   "source": [
    "from gensim import corpora"
   ]
  },
  {
   "cell_type": "code",
   "execution_count": 26,
   "id": "6af16f73",
   "metadata": {
    "execution": {
     "iopub.execute_input": "2023-12-10T20:40:27.406862Z",
     "iopub.status.busy": "2023-12-10T20:40:27.405730Z",
     "iopub.status.idle": "2023-12-10T20:40:35.124968Z",
     "shell.execute_reply": "2023-12-10T20:40:35.123428Z"
    },
    "papermill": {
     "duration": 7.759259,
     "end_time": "2023-12-10T20:40:35.128192",
     "exception": false,
     "start_time": "2023-12-10T20:40:27.368933",
     "status": "completed"
    },
    "tags": []
   },
   "outputs": [
    {
     "name": "stdout",
     "output_type": "stream",
     "text": [
      "overview national hearing care company part global leader hear healthcare build heritage care health\n"
     ]
    }
   ],
   "source": [
    "def lemmatization(texts, allowed_postags=[\"NOUN\", \"ADJ\", \"VERB\", \"ADV\"]):\n",
    "    nlp = spacy.load(\"en_core_web_sm\", disable=[\"parser\", \"ner\"])\n",
    "    texts_out = []\n",
    "    for text in texts:\n",
    "        doc = nlp(text)\n",
    "        new_text = []\n",
    "        for token in doc:\n",
    "            if token.pos_ in allowed_postags:\n",
    "                new_text.append(token.lemma_)\n",
    "        final = \" \".join(new_text)\n",
    "        texts_out.append(final)\n",
    "    return (texts_out)\n",
    "\n",
    "\n",
    "lemmatized_texts = lemmatization(job_postings1002['description'])\n",
    "print (lemmatized_texts[0][0:100])"
   ]
  },
  {
   "cell_type": "code",
   "execution_count": 27,
   "id": "3edd2788",
   "metadata": {
    "execution": {
     "iopub.execute_input": "2023-12-10T20:40:35.201517Z",
     "iopub.status.busy": "2023-12-10T20:40:35.200846Z",
     "iopub.status.idle": "2023-12-10T20:40:35.339529Z",
     "shell.execute_reply": "2023-12-10T20:40:35.338386Z"
    },
    "papermill": {
     "duration": 0.179205,
     "end_time": "2023-12-10T20:40:35.342350",
     "exception": false,
     "start_time": "2023-12-10T20:40:35.163145",
     "status": "completed"
    },
    "tags": []
   },
   "outputs": [
    {
     "name": "stdout",
     "output_type": "stream",
     "text": [
      "['overview', 'national', 'hearing', 'care', 'company', 'part', 'global', 'leader', 'hear', 'healthcare', 'build', 'heritage', 'care', 'health', 'innovation', 'operate', 'more', 'hearing', 'care', 'center']\n"
     ]
    }
   ],
   "source": [
    "def gen_words(texts):\n",
    "    final = []\n",
    "    for text in texts:\n",
    "        new = gensim.utils.simple_preprocess(text, deacc=True)\n",
    "        final.append(new)\n",
    "    return (final)\n",
    "\n",
    "data_words = gen_words(lemmatized_texts)\n",
    "\n",
    "print (data_words[0][0:20])"
   ]
  },
  {
   "cell_type": "code",
   "execution_count": 28,
   "id": "1b081fcf",
   "metadata": {
    "execution": {
     "iopub.execute_input": "2023-12-10T20:40:35.415629Z",
     "iopub.status.busy": "2023-12-10T20:40:35.415186Z",
     "iopub.status.idle": "2023-12-10T20:40:35.480192Z",
     "shell.execute_reply": "2023-12-10T20:40:35.479033Z"
    },
    "papermill": {
     "duration": 0.105839,
     "end_time": "2023-12-10T20:40:35.482819",
     "exception": false,
     "start_time": "2023-12-10T20:40:35.376980",
     "status": "completed"
    },
    "tags": []
   },
   "outputs": [
    {
     "name": "stdout",
     "output_type": "stream",
     "text": [
      "[(0, 3), (1, 2), (2, 1), (3, 2), (4, 1), (5, 1), (6, 1), (7, 1), (8, 1), (9, 10), (10, 1), (11, 1), (12, 1), (13, 1), (14, 1), (15, 1), (16, 1), (17, 1), (18, 1), (19, 2)]\n",
      "ability\n"
     ]
    }
   ],
   "source": [
    "id2word = corpora.Dictionary(data_words)\n",
    "\n",
    "corpus = []\n",
    "for text in data_words:\n",
    "    new = id2word.doc2bow(text)\n",
    "    corpus.append(new)\n",
    "\n",
    "print (corpus[0][0:20])\n",
    "\n",
    "word = id2word[[0][:1][0]]\n",
    "print (word)"
   ]
  },
  {
   "cell_type": "code",
   "execution_count": 29,
   "id": "92cc8e4e",
   "metadata": {
    "execution": {
     "iopub.execute_input": "2023-12-10T20:40:35.556629Z",
     "iopub.status.busy": "2023-12-10T20:40:35.556195Z",
     "iopub.status.idle": "2023-12-10T20:40:38.048823Z",
     "shell.execute_reply": "2023-12-10T20:40:38.047389Z"
    },
    "papermill": {
     "duration": 2.532688,
     "end_time": "2023-12-10T20:40:38.051709",
     "exception": false,
     "start_time": "2023-12-10T20:40:35.519021",
     "status": "completed"
    },
    "tags": []
   },
   "outputs": [],
   "source": [
    "lda_model = gensim.models.ldamodel.LdaModel(corpus=corpus,\n",
    "                                           id2word=id2word,\n",
    "                                           num_topics=10, #change the. number of topics \n",
    "                                           random_state=100,\n",
    "                                           update_every=1,\n",
    "                                           chunksize=100,\n",
    "                                           passes=10,\n",
    "                                           alpha=\"auto\")"
   ]
  },
  {
   "cell_type": "code",
   "execution_count": 30,
   "id": "d42767cc",
   "metadata": {
    "execution": {
     "iopub.execute_input": "2023-12-10T20:40:38.123083Z",
     "iopub.status.busy": "2023-12-10T20:40:38.122501Z",
     "iopub.status.idle": "2023-12-10T20:40:38.133439Z",
     "shell.execute_reply": "2023-12-10T20:40:38.131368Z"
    },
    "papermill": {
     "duration": 0.051943,
     "end_time": "2023-12-10T20:40:38.136270",
     "exception": false,
     "start_time": "2023-12-10T20:40:38.084327",
     "status": "completed"
    },
    "tags": []
   },
   "outputs": [
    {
     "name": "stdout",
     "output_type": "stream",
     "text": [
      "Topic: 0 \n",
      "Words: 0.014*\"guest\" + 0.013*\"service\" + 0.013*\"recruitment\" + 0.011*\"store\" + 0.011*\"beauty\" + 0.010*\"experience\" + 0.009*\"include\" + 0.009*\"product\" + 0.008*\"process\" + 0.008*\"role\"\n",
      "\n",
      "\n",
      "Topic: 1 \n",
      "Words: 0.013*\"experience\" + 0.011*\"work\" + 0.010*\"customer\" + 0.009*\"product\" + 0.009*\"include\" + 0.008*\"project\" + 0.008*\"management\" + 0.008*\"skill\" + 0.007*\"other\" + 0.007*\"datum\"\n",
      "\n",
      "\n",
      "Topic: 2 \n",
      "Words: 0.038*\"pay\" + 0.023*\"benefit\" + 0.023*\"insurance\" + 0.015*\"health\" + 0.015*\"participate\" + 0.008*\"professional\" + 0.008*\"include\" + 0.008*\"opportunity\" + 0.008*\"service\" + 0.008*\"company\"\n",
      "\n",
      "\n",
      "Topic: 3 \n",
      "Words: 0.027*\"manufacturing\" + 0.017*\"process\" + 0.012*\"team\" + 0.012*\"continuous\" + 0.012*\"ensure\" + 0.011*\"drug\" + 0.011*\"production\" + 0.011*\"facility\" + 0.010*\"quality\" + 0.009*\"material\"\n",
      "\n",
      "\n",
      "Topic: 4 \n",
      "Words: 0.015*\"sale\" + 0.011*\"store\" + 0.009*\"include\" + 0.009*\"patient\" + 0.009*\"employee\" + 0.008*\"survey\" + 0.008*\"experience\" + 0.007*\"life\" + 0.006*\"require\" + 0.006*\"work\"\n",
      "\n",
      "\n",
      "Topic: 5 \n",
      "Words: 0.011*\"experience\" + 0.010*\"team\" + 0.010*\"work\" + 0.009*\"repair\" + 0.008*\"year\" + 0.008*\"system\" + 0.008*\"collision\" + 0.007*\"opportunity\" + 0.007*\"include\" + 0.007*\"company\"\n",
      "\n",
      "\n",
      "Topic: 6 \n",
      "Words: 0.011*\"provide\" + 0.010*\"include\" + 0.009*\"service\" + 0.009*\"quality\" + 0.008*\"customer\" + 0.007*\"time\" + 0.007*\"ability\" + 0.006*\"full\" + 0.006*\"travel\" + 0.006*\"experience\"\n",
      "\n",
      "\n",
      "Topic: 7 \n",
      "Words: 0.013*\"experience\" + 0.011*\"work\" + 0.010*\"research\" + 0.008*\"client\" + 0.008*\"market\" + 0.008*\"include\" + 0.007*\"skill\" + 0.007*\"project\" + 0.007*\"team\" + 0.006*\"customer\"\n",
      "\n",
      "\n",
      "Topic: 8 \n",
      "Words: 0.016*\"work\" + 0.011*\"experience\" + 0.011*\"team\" + 0.008*\"customer\" + 0.007*\"product\" + 0.006*\"provide\" + 0.006*\"time\" + 0.006*\"pay\" + 0.006*\"company\" + 0.006*\"ability\"\n",
      "\n",
      "\n",
      "Topic: 9 \n",
      "Words: 0.049*\"business\" + 0.025*\"sale\" + 0.024*\"credit\" + 0.020*\"personal\" + 0.016*\"owner\" + 0.012*\"consulting\" + 0.012*\"small\" + 0.012*\"figure\" + 0.012*\"membership\" + 0.011*\"professional\"\n",
      "\n",
      "\n"
     ]
    }
   ],
   "source": [
    "#explore the words occuring in that topic and its relative weight\n",
    "for idx, topic in lda_model.print_topics(-1):\n",
    "    print(\"Topic: {} \\nWords: {}\".format(idx, topic))\n",
    "    print(\"\\n\")"
   ]
  },
  {
   "cell_type": "code",
   "execution_count": null,
   "id": "5d4819e6",
   "metadata": {
    "papermill": {
     "duration": 0.035914,
     "end_time": "2023-12-10T20:40:38.208278",
     "exception": false,
     "start_time": "2023-12-10T20:40:38.172364",
     "status": "completed"
    },
    "tags": []
   },
   "outputs": [],
   "source": []
  },
  {
   "cell_type": "markdown",
   "id": "00476bb4",
   "metadata": {
    "papermill": {
     "duration": 0.035092,
     "end_time": "2023-12-10T20:40:38.278610",
     "exception": false,
     "start_time": "2023-12-10T20:40:38.243518",
     "status": "completed"
    },
    "tags": []
   },
   "source": [
    "## Step 2: Create a pdf Reader"
   ]
  },
  {
   "cell_type": "code",
   "execution_count": 31,
   "id": "4e7b2a6b",
   "metadata": {
    "execution": {
     "iopub.execute_input": "2023-12-10T20:40:38.352141Z",
     "iopub.status.busy": "2023-12-10T20:40:38.351700Z",
     "iopub.status.idle": "2023-12-10T20:40:38.357504Z",
     "shell.execute_reply": "2023-12-10T20:40:38.356103Z"
    },
    "papermill": {
     "duration": 0.045843,
     "end_time": "2023-12-10T20:40:38.360217",
     "exception": false,
     "start_time": "2023-12-10T20:40:38.314374",
     "status": "completed"
    },
    "tags": []
   },
   "outputs": [],
   "source": [
    "import pypdf\n",
    "import os"
   ]
  },
  {
   "cell_type": "code",
   "execution_count": 32,
   "id": "e9b72090",
   "metadata": {
    "execution": {
     "iopub.execute_input": "2023-12-10T20:40:38.432256Z",
     "iopub.status.busy": "2023-12-10T20:40:38.431617Z",
     "iopub.status.idle": "2023-12-10T20:40:39.009054Z",
     "shell.execute_reply": "2023-12-10T20:40:39.006824Z"
    },
    "papermill": {
     "duration": 0.615793,
     "end_time": "2023-12-10T20:40:39.011795",
     "exception": true,
     "start_time": "2023-12-10T20:40:38.396002",
     "status": "failed"
    },
    "tags": []
   },
   "outputs": [
    {
     "ename": "NameError",
     "evalue": "name 'pdfFileObj' is not defined",
     "output_type": "error",
     "traceback": [
      "\u001b[0;31m---------------------------------------------------------------------------\u001b[0m",
      "\u001b[0;31mNameError\u001b[0m                                 Traceback (most recent call last)",
      "Cell \u001b[0;32mIn[32], line 2\u001b[0m\n\u001b[1;32m      1\u001b[0m \u001b[38;5;66;03m# creating a pdf reader object\u001b[39;00m\n\u001b[0;32m----> 2\u001b[0m pdfReader \u001b[38;5;241m=\u001b[39m pypdf\u001b[38;5;241m.\u001b[39mPdfReader(\u001b[43mpdfFileObj\u001b[49m)\n\u001b[1;32m      4\u001b[0m \u001b[38;5;66;03m# printing number of pages in pdf file\u001b[39;00m\n\u001b[1;32m      5\u001b[0m \u001b[38;5;28mprint\u001b[39m(\u001b[38;5;28mlen\u001b[39m(pdfReader\u001b[38;5;241m.\u001b[39mpages))\n",
      "\u001b[0;31mNameError\u001b[0m: name 'pdfFileObj' is not defined"
     ]
    }
   ],
   "source": [
    "# creating a pdf reader object\n",
    "pdfReader = pypdf.PdfReader(pdfFileObj)\n",
    " \n",
    "# printing number of pages in pdf file\n",
    "print(len(pdfReader.pages))\n",
    " \n",
    "# creating a page object\n",
    "pageObj = pdfReader.pages[0] #write for loop to get all pages\n",
    " \n",
    "# extracting text from page\n",
    "print(pageObj.extract_text())"
   ]
  },
  {
   "cell_type": "code",
   "execution_count": null,
   "id": "ca11d53a",
   "metadata": {
    "execution": {
     "iopub.status.busy": "2023-12-10T18:31:15.046961Z",
     "iopub.status.idle": "2023-12-10T18:31:15.047387Z",
     "shell.execute_reply": "2023-12-10T18:31:15.047206Z",
     "shell.execute_reply.started": "2023-12-10T18:31:15.047188Z"
    },
    "papermill": {
     "duration": null,
     "end_time": null,
     "exception": null,
     "start_time": null,
     "status": "pending"
    },
    "tags": []
   },
   "outputs": [],
   "source": [
    "# extracting text from page \n",
    "textpdf = pageObj.extract_text() \n",
    "#print(textpdf) "
   ]
  },
  {
   "cell_type": "markdown",
   "id": "5bb40d8d",
   "metadata": {
    "papermill": {
     "duration": null,
     "end_time": null,
     "exception": null,
     "start_time": null,
     "status": "pending"
    },
    "tags": []
   },
   "source": [
    "#### Define function to extract text from pdf\n"
   ]
  },
  {
   "cell_type": "code",
   "execution_count": null,
   "id": "a235988c",
   "metadata": {
    "execution": {
     "iopub.status.busy": "2023-12-10T18:31:15.049097Z",
     "iopub.status.idle": "2023-12-10T18:31:15.049549Z",
     "shell.execute_reply": "2023-12-10T18:31:15.049345Z",
     "shell.execute_reply.started": "2023-12-10T18:31:15.049327Z"
    },
    "papermill": {
     "duration": null,
     "end_time": null,
     "exception": null,
     "start_time": null,
     "status": "pending"
    },
    "tags": []
   },
   "outputs": [],
   "source": [
    "# Create a function to extract text\n",
    "\n",
    "def text_extraction(element):\n",
    "    # Extracting the text from the in-line text element\n",
    "    line_text = element.get_text()\n",
    "    \n",
    "    # Find the formats of the text\n",
    "    # Initialize the list with all the formats that appeared in the line of text\n",
    "    line_formats = []\n",
    "    for text_line in element:\n",
    "        if isinstance(text_line, LTTextContainer):\n",
    "            # Iterating through each character in the line of text\n",
    "            for character in text_line:\n",
    "                if isinstance(character, LTChar):\n",
    "                    # Append the font name of the character\n",
    "                    line_formats.append(character.fontname)\n",
    "                    # Append the font size of the character\n",
    "                    line_formats.append(character.size)\n",
    "    # Find the unique font sizes and names in the line\n",
    "    format_per_line = list(set(line_formats))\n",
    "    \n",
    "    # Return a tuple with the text in each line along with its format\n",
    "    return (line_text, format_per_line)"
   ]
  },
  {
   "cell_type": "code",
   "execution_count": null,
   "id": "d066508a",
   "metadata": {
    "execution": {
     "iopub.status.busy": "2023-12-10T18:31:15.050810Z",
     "iopub.status.idle": "2023-12-10T18:31:15.051345Z",
     "shell.execute_reply": "2023-12-10T18:31:15.051114Z",
     "shell.execute_reply.started": "2023-12-10T18:31:15.051035Z"
    },
    "papermill": {
     "duration": null,
     "end_time": null,
     "exception": null,
     "start_time": null,
     "status": "pending"
    },
    "tags": []
   },
   "outputs": [],
   "source": [
    "#Make a list of absolute path's to all of the PDF files in the target folder\n",
    "files = [join(path, f) for f in listdir(path) if isfile(join(path, f)) and join(path, f).endswith('.pdf')]\n"
   ]
  },
  {
   "cell_type": "code",
   "execution_count": null,
   "id": "6a7e896a",
   "metadata": {
    "execution": {
     "iopub.status.busy": "2023-12-10T18:31:15.053047Z",
     "iopub.status.idle": "2023-12-10T18:31:15.053631Z",
     "shell.execute_reply": "2023-12-10T18:31:15.053352Z",
     "shell.execute_reply.started": "2023-12-10T18:31:15.053325Z"
    },
    "papermill": {
     "duration": null,
     "end_time": null,
     "exception": null,
     "start_time": null,
     "status": "pending"
    },
    "tags": []
   },
   "outputs": [],
   "source": [
    "filestext = []"
   ]
  },
  {
   "cell_type": "code",
   "execution_count": null,
   "id": "d7b2b32b",
   "metadata": {
    "execution": {
     "iopub.status.busy": "2023-12-10T18:31:15.056087Z",
     "iopub.status.idle": "2023-12-10T18:31:15.056526Z",
     "shell.execute_reply": "2023-12-10T18:31:15.056340Z",
     "shell.execute_reply.started": "2023-12-10T18:31:15.056322Z"
    },
    "papermill": {
     "duration": null,
     "end_time": null,
     "exception": null,
     "start_time": null,
     "status": "pending"
    },
    "tags": []
   },
   "outputs": [],
   "source": [
    "for f in files:\n",
    "    with open(f, 'rb') as file_handle:\n",
    "        # Set strict=False to allow PDF files that don't comply to the PDF spec: https://www.pdfa.org/resource/pdf-specification-index/\n",
    "        pdf_reader = pypdf.PdfReader(file_handle, strict=False)\n",
    "        page_text = ''\n",
    "        # Iterate through each page in the PDF document to extract the text and add to plain-text string\n",
    "        for page_num in range(0, len(pdf_reader.pages)):\n",
    "            page = pdf_reader.pages[page_num]\n",
    "            page_text += page.extract_text() #add new text to old/ incrimental addition \n",
    "    # Write the plain text string to a file with the same name\n",
    "    #with open(f.replace('.pdf', '.txt'), 'a+') as text_file_handle:\n",
    "        #text_file_handle.writelines(page_text)\n",
    "        filestext.append(page_text) # list of test\n",
    "        \n",
    "        #create pandas dataframe --for loop\n",
    "        #create column - \n",
    "        # each row contains resume"
   ]
  },
  {
   "cell_type": "code",
   "execution_count": null,
   "id": "4f36b490",
   "metadata": {
    "execution": {
     "iopub.execute_input": "2023-12-10T18:32:53.317941Z",
     "iopub.status.busy": "2023-12-10T18:32:53.317203Z",
     "iopub.status.idle": "2023-12-10T18:32:53.385658Z",
     "shell.execute_reply": "2023-12-10T18:32:53.384271Z",
     "shell.execute_reply.started": "2023-12-10T18:32:53.317888Z"
    },
    "papermill": {
     "duration": null,
     "end_time": null,
     "exception": null,
     "start_time": null,
     "status": "pending"
    },
    "tags": []
   },
   "outputs": [],
   "source": [
    "df = pd.DataFrame({'FilePath':files, 'FileText': filestext})"
   ]
  },
  {
   "cell_type": "markdown",
   "id": "194d50c6",
   "metadata": {
    "papermill": {
     "duration": null,
     "end_time": null,
     "exception": null,
     "start_time": null,
     "status": "pending"
    },
    "tags": []
   },
   "source": [
    "#### Clean pdf file"
   ]
  },
  {
   "cell_type": "code",
   "execution_count": null,
   "id": "d3daff2c",
   "metadata": {
    "execution": {
     "iopub.execute_input": "2023-12-10T18:33:56.871550Z",
     "iopub.status.busy": "2023-12-10T18:33:56.871050Z",
     "iopub.status.idle": "2023-12-10T18:33:56.892982Z",
     "shell.execute_reply": "2023-12-10T18:33:56.891300Z",
     "shell.execute_reply.started": "2023-12-10T18:33:56.871500Z"
    },
    "papermill": {
     "duration": null,
     "end_time": null,
     "exception": null,
     "start_time": null,
     "status": "pending"
    },
    "tags": []
   },
   "outputs": [],
   "source": [
    "CONTRACTION_MAP = {\n",
    "\"ain't\": \"is not\",\n",
    "\"aren't\": \"are not\",\n",
    "\"can't\": \"cannot\",\n",
    "\"can't've\": \"cannot have\",\n",
    "\"'cause\": \"because\",\n",
    "\"could've\": \"could have\",\n",
    "\"couldn't\": \"could not\",\n",
    "\"couldn't've\": \"could not have\",\n",
    "\"didn't\": \"did not\",\n",
    "\"doesn't\": \"does not\",\n",
    "\"don't\": \"do not\",\n",
    "\"hadn't\": \"had not\",\n",
    "\"hadn't've\": \"had not have\",\n",
    "\"hasn't\": \"has not\",\n",
    "\"haven't\": \"have not\",\n",
    "\"he'd\": \"he would\",\n",
    "\"he'd've\": \"he would have\",\n",
    "\"he'll\": \"he will\",\n",
    "\"he'll've\": \"he will have\",\n",
    "\"he's\": \"he is\",\n",
    "\"how'd\": \"how did\",\n",
    "\"how'd'y\": \"how do you\",\n",
    "\"how'll\": \"how will\",\n",
    "\"how's\": \"how is\",\n",
    "\"I'd\": \"I would\",\n",
    "\"I'd've\": \"I would have\",\n",
    "\"I'll\": \"I will\",\n",
    "\"I'll've\": \"I will have\",\n",
    "\"I'm\": \"I am\",\n",
    "\"I've\": \"I have\",\n",
    "\"i'd\": \"i would\",\n",
    "\"i'd've\": \"i would have\",\n",
    "\"i'll\": \"i will\",\n",
    "\"i'll've\": \"i will have\",\n",
    "\"i'm\": \"i am\",\n",
    "\"i've\": \"i have\",\n",
    "\"isn't\": \"is not\",\n",
    "\"it'd\": \"it would\",\n",
    "\"it'd've\": \"it would have\",\n",
    "\"it'll\": \"it will\",\n",
    "\"it'll've\": \"it will have\",\n",
    "\"it's\": \"it is\",\n",
    "\"let's\": \"let us\",\n",
    "\"ma'am\": \"madam\",\n",
    "\"mayn't\": \"may not\",\n",
    "\"might've\": \"might have\",\n",
    "\"mightn't\": \"might not\",\n",
    "\"mightn't've\": \"might not have\",\n",
    "\"must've\": \"must have\",\n",
    "\"mustn't\": \"must not\",\n",
    "\"mustn't've\": \"must not have\",\n",
    "\"needn't\": \"need not\",\n",
    "\"needn't've\": \"need not have\",\n",
    "\"o'clock\": \"of the clock\",\n",
    "\"oughtn't\": \"ought not\",\n",
    "\"oughtn't've\": \"ought not have\",\n",
    "\"shan't\": \"shall not\",\n",
    "\"sha'n't\": \"shall not\",\n",
    "\"shan't've\": \"shall not have\",\n",
    "\"she'd\": \"she would\",\n",
    "\"she'd've\": \"she would have\",\n",
    "\"she'll\": \"she will\",\n",
    "\"she'll've\": \"she will have\",\n",
    "\"she's\": \"she is\",\n",
    "\"should've\": \"should have\",\n",
    "\"shouldn't\": \"should not\",\n",
    "\"shouldn't've\": \"should not have\",\n",
    "\"so've\": \"so have\",\n",
    "\"so's\": \"so as\",\n",
    "\"that'd\": \"that would\",\n",
    "\"that'd've\": \"that would have\",\n",
    "\"that's\": \"that is\",\n",
    "\"there'd\": \"there would\",\n",
    "\"there'd've\": \"there would have\",\n",
    "\"there's\": \"there is\",\n",
    "\"they'd\": \"they would\",\n",
    "\"they'd've\": \"they would have\",\n",
    "\"they'll\": \"they will\",\n",
    "\"they'll've\": \"they will have\",\n",
    "\"they're\": \"they are\",\n",
    "\"they've\": \"they have\",\n",
    "\"to've\": \"to have\",\n",
    "\"wasn't\": \"was not\",\n",
    "\"we'd\": \"we would\",\n",
    "\"we'd've\": \"we would have\",\n",
    "\"we'll\": \"we will\",\n",
    "\"we'll've\": \"we will have\",\n",
    "\"we're\": \"we are\",\n",
    "\"we've\": \"we have\",\n",
    "\"weren't\": \"were not\",\n",
    "\"what'll\": \"what will\",\n",
    "\"what'll've\": \"what will have\",\n",
    "\"what're\": \"what are\",\n",
    "\"what's\": \"what is\",\n",
    "\"what've\": \"what have\",\n",
    "\"when's\": \"when is\",\n",
    "\"when've\": \"when have\",\n",
    "\"where'd\": \"where did\",\n",
    "\"where's\": \"where is\",\n",
    "\"where've\": \"where have\",\n",
    "\"who'll\": \"who will\",\n",
    "\"who'll've\": \"who will have\",\n",
    "\"who's\": \"who is\",\n",
    "\"who've\": \"who have\",\n",
    "\"why's\": \"why is\",\n",
    "\"why've\": \"why have\",\n",
    "\"will've\": \"will have\",\n",
    "\"won't\": \"will not\",\n",
    "\"won't've\": \"will not have\",\n",
    "\"would've\": \"would have\",\n",
    "\"wouldn't\": \"would not\",\n",
    "\"wouldn't've\": \"would not have\",\n",
    "\"y'all\": \"you all\",\n",
    "\"y'all'd\": \"you all would\",\n",
    "\"y'all'd've\": \"you all would have\",\n",
    "\"y'all're\": \"you all are\",\n",
    "\"y'all've\": \"you all have\",\n",
    "\"you'd\": \"you would\",\n",
    "\"you'd've\": \"you would have\",\n",
    "\"you'll\": \"you will\",\n",
    "\"you'll've\": \"you will have\",\n",
    "\"you're\": \"you are\",\n",
    "\"you've\": \"you have\"\n",
    "}"
   ]
  },
  {
   "cell_type": "code",
   "execution_count": null,
   "id": "d29641bf",
   "metadata": {
    "execution": {
     "iopub.execute_input": "2023-12-10T18:34:35.912673Z",
     "iopub.status.busy": "2023-12-10T18:34:35.912031Z",
     "iopub.status.idle": "2023-12-10T18:34:35.925680Z",
     "shell.execute_reply": "2023-12-10T18:34:35.924527Z",
     "shell.execute_reply.started": "2023-12-10T18:34:35.912622Z"
    },
    "papermill": {
     "duration": null,
     "end_time": null,
     "exception": null,
     "start_time": null,
     "status": "pending"
    },
    "tags": []
   },
   "outputs": [],
   "source": [
    "print (\"Displaying the distinct categories of resume:\\n\\n \")\n",
    "print (resume['Category'].unique())"
   ]
  },
  {
   "cell_type": "code",
   "execution_count": null,
   "id": "325becad",
   "metadata": {
    "execution": {
     "iopub.execute_input": "2023-12-10T18:34:49.836651Z",
     "iopub.status.busy": "2023-12-10T18:34:49.836077Z",
     "iopub.status.idle": "2023-12-10T18:34:49.850957Z",
     "shell.execute_reply": "2023-12-10T18:34:49.848975Z",
     "shell.execute_reply.started": "2023-12-10T18:34:49.836605Z"
    },
    "papermill": {
     "duration": null,
     "end_time": null,
     "exception": null,
     "start_time": null,
     "status": "pending"
    },
    "tags": []
   },
   "outputs": [],
   "source": [
    "print (\"Displaying the distinct categories of resume and the number of records belonging to each category:\\n\\n\")\n",
    "print (resume['Category'].value_counts())"
   ]
  },
  {
   "cell_type": "code",
   "execution_count": null,
   "id": "0b73f4d9",
   "metadata": {
    "execution": {
     "iopub.execute_input": "2023-12-10T18:34:59.073544Z",
     "iopub.status.busy": "2023-12-10T18:34:59.073040Z",
     "iopub.status.idle": "2023-12-10T18:34:59.080760Z",
     "shell.execute_reply": "2023-12-10T18:34:59.079496Z",
     "shell.execute_reply.started": "2023-12-10T18:34:59.073495Z"
    },
    "papermill": {
     "duration": null,
     "end_time": null,
     "exception": null,
     "start_time": null,
     "status": "pending"
    },
    "tags": []
   },
   "outputs": [],
   "source": [
    "resume['cleaned_resume'] = ''"
   ]
  },
  {
   "cell_type": "code",
   "execution_count": null,
   "id": "7eb80063",
   "metadata": {
    "execution": {
     "iopub.execute_input": "2023-12-10T18:35:12.213297Z",
     "iopub.status.busy": "2023-12-10T18:35:12.212767Z",
     "iopub.status.idle": "2023-12-10T18:35:12.223021Z",
     "shell.execute_reply": "2023-12-10T18:35:12.221435Z",
     "shell.execute_reply.started": "2023-12-10T18:35:12.213257Z"
    },
    "papermill": {
     "duration": null,
     "end_time": null,
     "exception": null,
     "start_time": null,
     "status": "pending"
    },
    "tags": []
   },
   "outputs": [],
   "source": [
    "import re\n",
    "def cleanResume(textpdf):\n",
    "    resumeText = re.sub('http\\S+\\s*', ' ', textpdf)  # remove URLs\n",
    "    resumeText = re.sub('RT|cc', ' ', textpdf)  # remove RT and cc\n",
    "    resumeText = re.sub('#\\S+', '', textpdf)  # remove hashtags\n",
    "    resumeText = re.sub('@\\S+', '  ', textpdf)  # remove mentions\n",
    "    resumeText = re.sub('[%s]' % re.escape(\"\"\"!\"#$%&'()*+,-./:;<=>?@[\\]^_`{|}~\"\"\"), ' ', textpdf)  # remove punctuations\n",
    "    resumeText = re.sub(r'[^\\x00-\\x7f]',r' ', textpdf) \n",
    "    resumeText = re.sub('\\s+', ' ', textpdf)  # remove extra whitespace\n",
    "    return textpdf\n",
    "    "
   ]
  },
  {
   "cell_type": "code",
   "execution_count": null,
   "id": "1f8ddeda",
   "metadata": {
    "execution": {
     "iopub.execute_input": "2023-12-10T18:35:19.761495Z",
     "iopub.status.busy": "2023-12-10T18:35:19.761051Z",
     "iopub.status.idle": "2023-12-10T18:35:19.777568Z",
     "shell.execute_reply": "2023-12-10T18:35:19.776112Z",
     "shell.execute_reply.started": "2023-12-10T18:35:19.761465Z"
    },
    "papermill": {
     "duration": null,
     "end_time": null,
     "exception": null,
     "start_time": null,
     "status": "pending"
    },
    "tags": []
   },
   "outputs": [],
   "source": [
    "resume.head()"
   ]
  },
  {
   "cell_type": "markdown",
   "id": "43d43cb8",
   "metadata": {
    "papermill": {
     "duration": null,
     "end_time": null,
     "exception": null,
     "start_time": null,
     "status": "pending"
    },
    "tags": []
   },
   "source": [
    "### Read multiple pdfs"
   ]
  },
  {
   "cell_type": "code",
   "execution_count": null,
   "id": "483bc914",
   "metadata": {
    "execution": {
     "iopub.execute_input": "2023-12-10T18:37:11.755122Z",
     "iopub.status.busy": "2023-12-10T18:37:11.754496Z",
     "iopub.status.idle": "2023-12-10T18:37:11.762207Z",
     "shell.execute_reply": "2023-12-10T18:37:11.760583Z",
     "shell.execute_reply.started": "2023-12-10T18:37:11.755077Z"
    },
    "papermill": {
     "duration": null,
     "end_time": null,
     "exception": null,
     "start_time": null,
     "status": "pending"
    },
    "tags": []
   },
   "outputs": [],
   "source": [
    "def myApp():\n",
    "    import os    \n",
    "    import pytesseract"
   ]
  },
  {
   "cell_type": "markdown",
   "id": "b80273e7",
   "metadata": {
    "papermill": {
     "duration": null,
     "end_time": null,
     "exception": null,
     "start_time": null,
     "status": "pending"
    },
    "tags": []
   },
   "source": [
    "Python script for finding words of interest in pdf files in folder path with multiple file formats\n"
   ]
  },
  {
   "cell_type": "code",
   "execution_count": null,
   "id": "f5b90e71",
   "metadata": {
    "execution": {
     "iopub.execute_input": "2023-12-10T18:38:05.591122Z",
     "iopub.status.busy": "2023-12-10T18:38:05.590606Z",
     "iopub.status.idle": "2023-12-10T18:38:05.598045Z",
     "shell.execute_reply": "2023-12-10T18:38:05.596440Z",
     "shell.execute_reply.started": "2023-12-10T18:38:05.591085Z"
    },
    "papermill": {
     "duration": null,
     "end_time": null,
     "exception": null,
     "start_time": null,
     "status": "pending"
    },
    "tags": []
   },
   "outputs": [],
   "source": [
    "path1 = r\"/kaggle/input/resume-dataset/data/data\""
   ]
  },
  {
   "cell_type": "code",
   "execution_count": null,
   "id": "b2efdbab",
   "metadata": {
    "papermill": {
     "duration": null,
     "end_time": null,
     "exception": null,
     "start_time": null,
     "status": "pending"
    },
    "tags": []
   },
   "outputs": [],
   "source": [
    "# Top 5 keywords from topic modeling\n",
    "Topic 0: \"guest\",\"service\", \"recruitment\",\"store\",\"beauty\"\n",
    "Topic 1: \"experience,work, customer,product,include\"\n",
    "Topic 2: \"pay,benefit, insurance,health,participate\"\n",
    "Topic 3: \"manufacturing,process, team,continuous,\"ensure\"\n",
    "Topic 4: \"sale,store, include,patient,employee\"\n",
    "Topic 5: \"experience,team, work,repair,year\"\n",
    "Topic 6: \"provide,include, service,quality,customer\"\n",
    "Topic 7: \"experience,work, research,client,market\"\n",
    "Topic 8: \"work,experience, team,customer,product\"\n",
    "Topic 9: \"business,sale, team,credit,personal\"\n",
    "\n",
    "\n"
   ]
  },
  {
   "cell_type": "code",
   "execution_count": null,
   "id": "bce33336",
   "metadata": {
    "execution": {
     "iopub.execute_input": "2023-12-10T18:52:03.089975Z",
     "iopub.status.busy": "2023-12-10T18:52:03.089447Z"
    },
    "papermill": {
     "duration": null,
     "end_time": null,
     "exception": null,
     "start_time": null,
     "status": "pending"
    },
    "tags": []
   },
   "outputs": [],
   "source": [
    "list_of_cvs0 = []\n",
    "\n",
    "keywords = \"guest, service, recruitment, store, beauty\".replace(\", \", \"|\")\n",
    "for root, dirs, files in os.walk(path1):\n",
    "    for file in files:\n",
    "        if file.endswith('.pdf') or file.endswith('.PDF'): #different extensions on the raw dat\n",
    "            with pdfplumber.open(root+'/'+ file) as pdf:\n",
    "                full_text = ''\n",
    "                for page in pdf.pages:\n",
    "                    text = page.extract_text()\n",
    "                    full_text += text #incremental add to the variable - this will hold the entire pdf\n",
    "                result = re.search(keywords, full_text)\n",
    "                if result: \n",
    "                       list_of_cvs.append(file) #storing files in a list \n",
    "                    \n",
    "                        \n"
   ]
  },
  {
   "cell_type": "code",
   "execution_count": null,
   "id": "6f00acdc",
   "metadata": {
    "papermill": {
     "duration": null,
     "end_time": null,
     "exception": null,
     "start_time": null,
     "status": "pending"
    },
    "tags": []
   },
   "outputs": [],
   "source": [
    "#print list_of_cvs - this will contain all the pdf files with the keywords"
   ]
  },
  {
   "cell_type": "code",
   "execution_count": null,
   "id": "fb76964d",
   "metadata": {
    "papermill": {
     "duration": null,
     "end_time": null,
     "exception": null,
     "start_time": null,
     "status": "pending"
    },
    "tags": []
   },
   "outputs": [],
   "source": [
    "print(list_of_cvs0)"
   ]
  },
  {
   "cell_type": "code",
   "execution_count": null,
   "id": "d51ce979",
   "metadata": {
    "papermill": {
     "duration": null,
     "end_time": null,
     "exception": null,
     "start_time": null,
     "status": "pending"
    },
    "tags": []
   },
   "outputs": [],
   "source": [
    "list_of_cvs1 = []\n",
    "\n",
    "keywords = \"experience, work, customer, product, include\".replace(\", \", \"|\")\n",
    "for root, dirs, files in os.walk(path1):\n",
    "    for file in files:\n",
    "        if file.endswith('.pdf') or file.endswith('.PDF'): #different extensions on the raw dat\n",
    "            with pdfplumber.open(root+'/'+ file) as pdf:\n",
    "                full_text = ''\n",
    "                for page in pdf.pages:\n",
    "                    text = page.extract_text()\n",
    "                    full_text += text #incremental add to the variable - this will hold the entire pdf\n",
    "                result = re.search(keywords, full_text)\n",
    "                if result: \n",
    "                       list_of_cvs.append(file) #storing files in a list \n",
    "                    \n",
    "                        "
   ]
  },
  {
   "cell_type": "code",
   "execution_count": null,
   "id": "0077dc45",
   "metadata": {
    "papermill": {
     "duration": null,
     "end_time": null,
     "exception": null,
     "start_time": null,
     "status": "pending"
    },
    "tags": []
   },
   "outputs": [],
   "source": [
    "list_of_cvs1.head(5)"
   ]
  },
  {
   "cell_type": "code",
   "execution_count": null,
   "id": "ec3cc919",
   "metadata": {
    "papermill": {
     "duration": null,
     "end_time": null,
     "exception": null,
     "start_time": null,
     "status": "pending"
    },
    "tags": []
   },
   "outputs": [],
   "source": [
    "list_of_cvs2 = []\n",
    "\n",
    "keywords = \"pay,benefit, insurance,health,participate\".replace(\", \", \"|\")\n",
    "for root, dirs, files in os.walk(path1):\n",
    "    for file in files:\n",
    "        if file.endswith('.pdf') or file.endswith('.PDF'): #different extensions on the raw dat\n",
    "            with pdfplumber.open(root+'/'+ file) as pdf:\n",
    "                full_text = ''\n",
    "                for page in pdf.pages:\n",
    "                    text = page.extract_text()\n",
    "                    full_text += text #incremental add to the variable - this will hold the entire pdf\n",
    "                result = re.search(keywords, full_text)\n",
    "                if result: \n",
    "                       list_of_cvs.append(file) #storing files in a list \n",
    "                    \n",
    "                        "
   ]
  },
  {
   "cell_type": "code",
   "execution_count": null,
   "id": "dd818c94",
   "metadata": {
    "papermill": {
     "duration": null,
     "end_time": null,
     "exception": null,
     "start_time": null,
     "status": "pending"
    },
    "tags": []
   },
   "outputs": [],
   "source": [
    "list_of_cvs2.head(5)"
   ]
  },
  {
   "cell_type": "code",
   "execution_count": null,
   "id": "88fd8d7e",
   "metadata": {
    "papermill": {
     "duration": null,
     "end_time": null,
     "exception": null,
     "start_time": null,
     "status": "pending"
    },
    "tags": []
   },
   "outputs": [],
   "source": [
    "list_of_cvs3 = []\n",
    "\n",
    "keywords = \"pay,benefit, insurance,health,participate\".replace(\", \", \"|\")\n",
    "for root, dirs, files in os.walk(path1):\n",
    "    for file in files:\n",
    "        if file.endswith('.pdf') or file.endswith('.PDF'): #different extensions on the raw dat\n",
    "            with pdfplumber.open(root+'/'+ file) as pdf:\n",
    "                full_text = ''\n",
    "                for page in pdf.pages:\n",
    "                    text = page.extract_text()\n",
    "                    full_text += text #incremental add to the variable - this will hold the entire pdf\n",
    "                result = re.search(keywords, full_text)\n",
    "                if result: \n",
    "                       list_of_cvs.append(file) #storing files in a list \n",
    "                    "
   ]
  },
  {
   "cell_type": "code",
   "execution_count": null,
   "id": "700a1e57",
   "metadata": {
    "papermill": {
     "duration": null,
     "end_time": null,
     "exception": null,
     "start_time": null,
     "status": "pending"
    },
    "tags": []
   },
   "outputs": [],
   "source": [
    "list_of_cvs3"
   ]
  },
  {
   "cell_type": "code",
   "execution_count": null,
   "id": "0b6583af",
   "metadata": {
    "papermill": {
     "duration": null,
     "end_time": null,
     "exception": null,
     "start_time": null,
     "status": "pending"
    },
    "tags": []
   },
   "outputs": [],
   "source": [
    "list_of_cvs4 = []\n",
    "\n",
    "keywords = \"pay,benefit, insurance,health,participate\".replace(\", \", \"|\")\n",
    "for root, dirs, files in os.walk(path1):\n",
    "    for file in files:\n",
    "        if file.endswith('.pdf') or file.endswith('.PDF'): #different extensions on the raw dat\n",
    "            with pdfplumber.open(root+'/'+ file) as pdf:\n",
    "                full_text = ''\n",
    "                for page in pdf.pages:\n",
    "                    text = page.extract_text()\n",
    "                    full_text += text #incremental add to the variable - this will hold the entire pdf\n",
    "                result = re.search(keywords, full_text)\n",
    "                if result: \n",
    "                       list_of_cvs.append(file) #storing files in a list \n",
    "                    "
   ]
  },
  {
   "cell_type": "code",
   "execution_count": null,
   "id": "40fb0687",
   "metadata": {
    "papermill": {
     "duration": null,
     "end_time": null,
     "exception": null,
     "start_time": null,
     "status": "pending"
    },
    "tags": []
   },
   "outputs": [],
   "source": [
    "list_of_cvs4"
   ]
  },
  {
   "cell_type": "code",
   "execution_count": null,
   "id": "79ee5d8d",
   "metadata": {
    "papermill": {
     "duration": null,
     "end_time": null,
     "exception": null,
     "start_time": null,
     "status": "pending"
    },
    "tags": []
   },
   "outputs": [],
   "source": [
    "list_of_cvs5 = []\n",
    "\n",
    "keywords = \"pay,benefit, insurance,health,participate\".replace(\", \", \"|\")\n",
    "for root, dirs, files in os.walk(path1):\n",
    "    for file in files:\n",
    "        if file.endswith('.pdf') or file.endswith('.PDF'): #different extensions on the raw dat\n",
    "            with pdfplumber.open(root+'/'+ file) as pdf:\n",
    "                full_text = ''\n",
    "                for page in pdf.pages:\n",
    "                    text = page.extract_text()\n",
    "                    full_text += text #incremental add to the variable - this will hold the entire pdf\n",
    "                result = re.search(keywords, full_text)\n",
    "                if result: \n",
    "                       list_of_cvs.append(file) #storing files in a list \n",
    "                    "
   ]
  },
  {
   "cell_type": "code",
   "execution_count": null,
   "id": "946c6e0a",
   "metadata": {
    "papermill": {
     "duration": null,
     "end_time": null,
     "exception": null,
     "start_time": null,
     "status": "pending"
    },
    "tags": []
   },
   "outputs": [],
   "source": [
    "list_of_cvs5"
   ]
  },
  {
   "cell_type": "code",
   "execution_count": null,
   "id": "10422d00",
   "metadata": {
    "papermill": {
     "duration": null,
     "end_time": null,
     "exception": null,
     "start_time": null,
     "status": "pending"
    },
    "tags": []
   },
   "outputs": [],
   "source": [
    "list_of_cvs6 = []\n",
    "\n",
    "keywords = \"pay,benefit, insurance,health,participate\".replace(\", \", \"|\")\n",
    "for root, dirs, files in os.walk(path1):\n",
    "    for file in files:\n",
    "        if file.endswith('.pdf') or file.endswith('.PDF'): #different extensions on the raw dat\n",
    "            with pdfplumber.open(root+'/'+ file) as pdf:\n",
    "                full_text = ''\n",
    "                for page in pdf.pages:\n",
    "                    text = page.extract_text()\n",
    "                    full_text += text #incremental add to the variable - this will hold the entire pdf\n",
    "                result = re.search(keywords, full_text)\n",
    "                if result: \n",
    "                       list_of_cvs.append(file) #storing files in a list \n",
    "                    "
   ]
  },
  {
   "cell_type": "code",
   "execution_count": null,
   "id": "9ce3a13d",
   "metadata": {
    "papermill": {
     "duration": null,
     "end_time": null,
     "exception": null,
     "start_time": null,
     "status": "pending"
    },
    "tags": []
   },
   "outputs": [],
   "source": [
    "list_of_cvs6"
   ]
  },
  {
   "cell_type": "code",
   "execution_count": null,
   "id": "49d5faa8",
   "metadata": {
    "papermill": {
     "duration": null,
     "end_time": null,
     "exception": null,
     "start_time": null,
     "status": "pending"
    },
    "tags": []
   },
   "outputs": [],
   "source": [
    "list_of_cvs7 = []\n",
    "\n",
    "keywords = \"pay,benefit, insurance,health,participate\".replace(\", \", \"|\")\n",
    "for root, dirs, files in os.walk(path1):\n",
    "    for file in files:\n",
    "        if file.endswith('.pdf') or file.endswith('.PDF'): #different extensions on the raw dat\n",
    "            with pdfplumber.open(root+'/'+ file) as pdf:\n",
    "                full_text = ''\n",
    "                for page in pdf.pages:\n",
    "                    text = page.extract_text()\n",
    "                    full_text += text #incremental add to the variable - this will hold the entire pdf\n",
    "                result = re.search(keywords, full_text)\n",
    "                if result: \n",
    "                       list_of_cvs.append(file) #storing files in a list \n",
    "                    "
   ]
  },
  {
   "cell_type": "code",
   "execution_count": null,
   "id": "89b9dcdd",
   "metadata": {
    "papermill": {
     "duration": null,
     "end_time": null,
     "exception": null,
     "start_time": null,
     "status": "pending"
    },
    "tags": []
   },
   "outputs": [],
   "source": [
    "list_of_cvs7"
   ]
  },
  {
   "cell_type": "code",
   "execution_count": null,
   "id": "b68f603e",
   "metadata": {
    "papermill": {
     "duration": null,
     "end_time": null,
     "exception": null,
     "start_time": null,
     "status": "pending"
    },
    "tags": []
   },
   "outputs": [],
   "source": [
    "list_of_cvs8 = []\n",
    "\n",
    "keywords = \"pay,benefit, insurance,health,participate\".replace(\", \", \"|\")\n",
    "for root, dirs, files in os.walk(path1):\n",
    "    for file in files:\n",
    "        if file.endswith('.pdf') or file.endswith('.PDF'): #different extensions on the raw dat\n",
    "            with pdfplumber.open(root+'/'+ file) as pdf:\n",
    "                full_text = ''\n",
    "                for page in pdf.pages:\n",
    "                    text = page.extract_text()\n",
    "                    full_text += text #incremental add to the variable - this will hold the entire pdf\n",
    "                result = re.search(keywords, full_text)\n",
    "                if result: \n",
    "                       list_of_cvs.append(file) #storing files in a list \n",
    "                    "
   ]
  },
  {
   "cell_type": "code",
   "execution_count": null,
   "id": "d7e20554",
   "metadata": {
    "papermill": {
     "duration": null,
     "end_time": null,
     "exception": null,
     "start_time": null,
     "status": "pending"
    },
    "tags": []
   },
   "outputs": [],
   "source": [
    "list_of_cvs8"
   ]
  },
  {
   "cell_type": "code",
   "execution_count": null,
   "id": "3c22eb28",
   "metadata": {
    "papermill": {
     "duration": null,
     "end_time": null,
     "exception": null,
     "start_time": null,
     "status": "pending"
    },
    "tags": []
   },
   "outputs": [],
   "source": [
    "list_of_cvs9 = []\n",
    "\n",
    "keywords = \"pay,benefit, insurance,health,participate\".replace(\", \", \"|\")\n",
    "for root, dirs, files in os.walk(path1):\n",
    "    for file in files:\n",
    "        if file.endswith('.pdf') or file.endswith('.PDF'): #different extensions on the raw dat\n",
    "            with pdfplumber.open(root+'/'+ file) as pdf:\n",
    "                full_text = ''\n",
    "                for page in pdf.pages:\n",
    "                    text = page.extract_text()\n",
    "                    full_text += text #incremental add to the variable - this will hold the entire pdf\n",
    "                result = re.search(keywords, full_text)\n",
    "                if result: \n",
    "                       list_of_cvs.append(file) #storing files in a list \n",
    "                    "
   ]
  },
  {
   "cell_type": "code",
   "execution_count": null,
   "id": "845b4b9f",
   "metadata": {
    "papermill": {
     "duration": null,
     "end_time": null,
     "exception": null,
     "start_time": null,
     "status": "pending"
    },
    "tags": []
   },
   "outputs": [],
   "source": [
    "list_of_cvs9.head()"
   ]
  }
 ],
 "metadata": {
  "kaggle": {
   "accelerator": "none",
   "dataSources": [
    {
     "datasetId": 1519260,
     "sourceId": 2508632,
     "sourceType": "datasetVersion"
    },
    {
     "datasetId": 3680745,
     "sourceId": 6893293,
     "sourceType": "datasetVersion"
    }
   ],
   "dockerImageVersionId": 30615,
   "isGpuEnabled": false,
   "isInternetEnabled": true,
   "language": "python",
   "sourceType": "notebook"
  },
  "kernelspec": {
   "display_name": "Python 3",
   "language": "python",
   "name": "python3"
  },
  "language_info": {
   "codemirror_mode": {
    "name": "ipython",
    "version": 3
   },
   "file_extension": ".py",
   "mimetype": "text/x-python",
   "name": "python",
   "nbconvert_exporter": "python",
   "pygments_lexer": "ipython3",
   "version": "3.10.12"
  },
  "papermill": {
   "default_parameters": {},
   "duration": 108.966551,
   "end_time": "2023-12-10T20:40:41.799475",
   "environment_variables": {},
   "exception": true,
   "input_path": "__notebook__.ipynb",
   "output_path": "__notebook__.ipynb",
   "parameters": {},
   "start_time": "2023-12-10T20:38:52.832924",
   "version": "2.4.0"
  }
 },
 "nbformat": 4,
 "nbformat_minor": 5
}
